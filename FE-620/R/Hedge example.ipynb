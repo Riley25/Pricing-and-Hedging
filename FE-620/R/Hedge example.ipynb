{
 "cells": [
  {
   "cell_type": "markdown",
   "id": "fbfc2232",
   "metadata": {},
   "source": [
    "### Hedge example"
   ]
  },
  {
   "cell_type": "code",
   "execution_count": 2,
   "id": "af067959",
   "metadata": {},
   "outputs": [],
   "source": [
    "suppressMessages(library('dplyr'))\n",
    "suppressMessages(library('quantmod'))\n",
    "suppressMessages(library('repr'))\n",
    "suppressMessages(library('xlsx'))\n",
    "suppressMessages(library('derivmkts'))\n",
    "suppressMessages(library('ggplot2'))\n",
    "suppressMessages(library('moments'))\n",
    "suppressMessages(library('bizdays'))\n",
    "suppressMessages(library('lubridate'))\n",
    "# This changes the size of plots\n",
    "options(repr.plot.width = 5.5, repr.plot.height =4)"
   ]
  },
  {
   "cell_type": "markdown",
   "id": "fb2825bb",
   "metadata": {},
   "source": [
    "### Step 1. Generate Stock Path\n",
    "\n",
    "$$ S(t) = S(t-1) \\times e^{ \\sigma \\times (~N(0,1)) } $$  Yikes"
   ]
  },
  {
   "cell_type": "code",
   "execution_count": 4,
   "id": "e466e1cb",
   "metadata": {},
   "outputs": [
    {
     "data": {
      "text/html": [
       "<style>\n",
       ".list-inline {list-style: none; margin:0; padding: 0}\n",
       ".list-inline>li {display: inline-block}\n",
       ".list-inline>li:not(:last-child)::after {content: \"\\00b7\"; padding: 0 .5ex}\n",
       "</style>\n",
       "<ol class=list-inline><li>100</li><li>98.9627635536713</li><li>101.099769984001</li><li>103.386258942272</li><li>103.016550254268</li><li>103.327335094232</li><li>102.938917601191</li><li>102.895155978168</li><li>101.967035312653</li><li>102.828595597917</li></ol>\n"
      ],
      "text/latex": [
       "\\begin{enumerate*}\n",
       "\\item 100\n",
       "\\item 98.9627635536713\n",
       "\\item 101.099769984001\n",
       "\\item 103.386258942272\n",
       "\\item 103.016550254268\n",
       "\\item 103.327335094232\n",
       "\\item 102.938917601191\n",
       "\\item 102.895155978168\n",
       "\\item 101.967035312653\n",
       "\\item 102.828595597917\n",
       "\\end{enumerate*}\n"
      ],
      "text/markdown": [
       "1. 100\n",
       "2. 98.9627635536713\n",
       "3. 101.099769984001\n",
       "4. 103.386258942272\n",
       "5. 103.016550254268\n",
       "6. 103.327335094232\n",
       "7. 102.938917601191\n",
       "8. 102.895155978168\n",
       "9. 101.967035312653\n",
       "10. 102.828595597917\n",
       "\n",
       "\n"
      ],
      "text/plain": [
       " [1] 100.00000  98.96276 101.09977 103.38626 103.01655 103.32734 102.93892\n",
       " [8] 102.89516 101.96704 102.82860"
      ]
     },
     "metadata": {},
     "output_type": "display_data"
    }
   ],
   "source": [
    "S_0 = 100\n",
    "r = .001\n",
    "delta_t = 1/252\n",
    "sigma = .25\n",
    "\n",
    "GBM = function(N, S_0, delta_t, sigma ){\n",
    "    Y = NULL\n",
    "    Y[1] = S_0\n",
    "    \n",
    "    for(i in 2:N){\n",
    "        previous_price = Y[i-1]\n",
    "        random_number = rnorm(1, mean = 0, sd = 1)\n",
    "        Y[i] = previous_price * exp( (sigma)*random_number *sqrt(delta_t) + (r - (sigma^2)* .5 * delta_t))\n",
    "    }\n",
    "    return(Y)\n",
    "}\n",
    "\n",
    "GBM(10, S_0, delta_t, sigma)\n",
    "\n"
   ]
  },
  {
   "cell_type": "markdown",
   "id": "460afdd2",
   "metadata": {},
   "source": [
    "### Step 2. \n",
    "\n",
    "Use Derivmkts to calculate the \"Delta\" for every stock price.. \n",
    "Example:"
   ]
  },
  {
   "cell_type": "code",
   "execution_count": 5,
   "id": "c5cb19f8",
   "metadata": {},
   "outputs": [
    {
     "data": {
      "text/html": [
       "2.19550661255022"
      ],
      "text/latex": [
       "2.19550661255022"
      ],
      "text/markdown": [
       "2.19550661255022"
      ],
      "text/plain": [
       "[1] 2.195507"
      ]
     },
     "metadata": {},
     "output_type": "display_data"
    }
   ],
   "source": [
    "s = 100\n",
    "k = 105\n",
    "v = .30\n",
    "r = .001\n",
    "tt = (30/252)\n",
    "d = 0\n",
    "\n",
    "greeks(derivmkts::bscall(s,k,v,r,tt,d))\n"
   ]
  },
  {
   "cell_type": "code",
   "execution_count": null,
   "id": "f2937209",
   "metadata": {},
   "outputs": [],
   "source": []
  },
  {
   "cell_type": "code",
   "execution_count": null,
   "id": "1ea2e628",
   "metadata": {},
   "outputs": [],
   "source": [
    "\n",
    "\n"
   ]
  },
  {
   "cell_type": "code",
   "execution_count": null,
   "id": "08331ae7",
   "metadata": {},
   "outputs": [],
   "source": []
  },
  {
   "cell_type": "code",
   "execution_count": null,
   "id": "d2fa299c",
   "metadata": {},
   "outputs": [],
   "source": []
  },
  {
   "cell_type": "code",
   "execution_count": null,
   "id": "d02a04fe",
   "metadata": {},
   "outputs": [],
   "source": []
  },
  {
   "cell_type": "markdown",
   "id": "a3f59d23",
   "metadata": {},
   "source": [
    "---"
   ]
  },
  {
   "cell_type": "code",
   "execution_count": 13,
   "id": "9706c98a",
   "metadata": {},
   "outputs": [],
   "source": []
  },
  {
   "cell_type": "code",
   "execution_count": 4,
   "id": "3f6ff6c1",
   "metadata": {},
   "outputs": [],
   "source": [
    "df = derivmkts::binomopt(s, k , v , r , t , d , nsteps,\n",
    "                         putopt=FALSE,    # <----- putopt = FALSE (price for call option) \n",
    "                         american=TRUE,   # <----- american = TRUE (price for american option). This should always be TRUE\n",
    "                         returntrees=TRUE)# <----- returntrees = TRUE (returns the option price). This should always be TRUE\n"
   ]
  },
  {
   "cell_type": "code",
   "execution_count": 7,
   "id": "d0d1a108",
   "metadata": {},
   "outputs": [
    {
     "data": {
      "text/html": [
       "<strong>price:</strong> 34.1690134644903"
      ],
      "text/latex": [
       "\\textbf{price:} 34.1690134644903"
      ],
      "text/markdown": [
       "**price:** 34.1690134644903"
      ],
      "text/plain": [
       "   price \n",
       "34.16901 "
      ]
     },
     "metadata": {},
     "output_type": "display_data"
    }
   ],
   "source": []
  },
  {
   "cell_type": "code",
   "execution_count": null,
   "id": "0d470833",
   "metadata": {},
   "outputs": [],
   "source": []
  }
 ],
 "metadata": {
  "kernelspec": {
   "display_name": "R 3.3",
   "language": "R",
   "name": "ir33"
  },
  "language_info": {
   "codemirror_mode": "r",
   "file_extension": ".r",
   "mimetype": "text/x-r-source",
   "name": "R",
   "pygments_lexer": "r",
   "version": "3.6.1"
  }
 },
 "nbformat": 4,
 "nbformat_minor": 5
}
