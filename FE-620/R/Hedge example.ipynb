{
 "cells": [
  {
   "cell_type": "markdown",
   "id": "fbfc2232",
   "metadata": {},
   "source": [
    "### Hedge example"
   ]
  },
  {
   "cell_type": "code",
   "execution_count": 69,
   "id": "af067959",
   "metadata": {},
   "outputs": [],
   "source": [
    "suppressMessages(library('dplyr'))\n",
    "suppressMessages(library('quantmod'))\n",
    "suppressMessages(library('repr'))\n",
    "suppressMessages(library('xlsx'))\n",
    "suppressMessages(library('derivmkts'))\n",
    "suppressMessages(library('ggplot2'))\n",
    "suppressMessages(library('moments'))\n",
    "suppressMessages(library('bizdays'))\n",
    "suppressMessages(library('lubridate'))\n",
    "# This changes the size of plots\n",
    "options(repr.plot.width = 5.5, repr.plot.height =4)"
   ]
  },
  {
   "cell_type": "code",
   "execution_count": 70,
   "id": "74433e3d",
   "metadata": {},
   "outputs": [
    {
     "name": "stdout",
     "output_type": "stream",
     "text": [
      "[1] \"Total Number of Rows = 717\"\n",
      "[1] \"Total Number of Columns = 7\"\n"
     ]
    }
   ],
   "source": [
    "TSLA_OPTIONS = xlsx::read.xlsx('Data/TSLA_OPTIONS.xlsx', sheetName = \"Sheet1\")\n",
    "\n",
    "TSLA_STOCK = xlsx::read.xlsx('Data/TSLA_STOCK.xlsx', sheetName = \"Sheet1\")\n",
    "\n",
    "n_row = dim(TSLA_STOCK)[1]\n",
    "print(paste(c(\"Total Number of Rows = \", n_row), collapse = ''))\n",
    "\n",
    "n_col = dim(TSLA_STOCK)[2]\n",
    "print(paste(c(\"Total Number of Columns = \", n_col), collapse = ''))\n",
    "\n",
    "# convert date to \"Date\" variable\n",
    "TSLA_STOCK$Date = as.Date(TSLA_STOCK$Date, format=\"%Y-%m-%d\")"
   ]
  },
  {
   "cell_type": "code",
   "execution_count": 71,
   "id": "e466e1cb",
   "metadata": {},
   "outputs": [
    {
     "data": {
      "text/html": [
       "<time datetime=\"2019-01-02\">2019-01-02</time>"
      ],
      "text/latex": [
       "2019-01-02"
      ],
      "text/markdown": [
       "2019-01-02"
      ],
      "text/plain": [
       "[1] \"2019-01-02\""
      ]
     },
     "metadata": {},
     "output_type": "display_data"
    }
   ],
   "source": [
    "min(TSLA_STOCK$Date)"
   ]
  },
  {
   "cell_type": "code",
   "execution_count": 72,
   "id": "d25b842f",
   "metadata": {},
   "outputs": [
    {
     "data": {
      "text/html": [
       "<time datetime=\"2019-01-02\">2019-01-02</time>"
      ],
      "text/latex": [
       "2019-01-02"
      ],
      "text/markdown": [
       "2019-01-02"
      ],
      "text/plain": [
       "[1] \"2019-01-02\""
      ]
     },
     "metadata": {},
     "output_type": "display_data"
    },
    {
     "data": {
      "text/html": [
       "<time datetime=\"2021-11-03\">2021-11-03</time>"
      ],
      "text/latex": [
       "2021-11-03"
      ],
      "text/markdown": [
       "2021-11-03"
      ],
      "text/plain": [
       "[1] \"2021-11-03\""
      ]
     },
     "metadata": {},
     "output_type": "display_data"
    }
   ],
   "source": [
    "cal <-  create.calendar(name=\"mycal\", weekdays=c(\"saturday\", \"sunday\"))\n",
    "start_date = min(TSLA_STOCK$Date); start_date\n",
    "end_date = max(TSLA_STOCK$Date); end_date\n",
    "x = as.numeric(bizdays::bizdays(start_date, end_date, cal = cal))"
   ]
  },
  {
   "cell_type": "code",
   "execution_count": 73,
   "id": "c5cb19f8",
   "metadata": {},
   "outputs": [
    {
     "data": {
      "text/html": [
       "2.93650793650794"
      ],
      "text/latex": [
       "2.93650793650794"
      ],
      "text/markdown": [
       "2.93650793650794"
      ],
      "text/plain": [
       "[1] 2.936508"
      ]
     },
     "metadata": {},
     "output_type": "display_data"
    }
   ],
   "source": [
    "x / 252"
   ]
  },
  {
   "cell_type": "code",
   "execution_count": 74,
   "id": "f2937209",
   "metadata": {},
   "outputs": [
    {
     "data": {
      "text/html": [
       "<table class=\"dataframe\">\n",
       "<caption>A data.frame: 11 × 7</caption>\n",
       "<thead>\n",
       "\t<tr><th></th><th scope=col>Date</th><th scope=col>TSLA.Open</th><th scope=col>TSLA.High</th><th scope=col>TSLA.Low</th><th scope=col>TSLA.Close</th><th scope=col>TSLA.Volume</th><th scope=col>TSLA.Adjusted</th></tr>\n",
       "\t<tr><th></th><th scope=col>&lt;date&gt;</th><th scope=col>&lt;dbl&gt;</th><th scope=col>&lt;dbl&gt;</th><th scope=col>&lt;dbl&gt;</th><th scope=col>&lt;dbl&gt;</th><th scope=col>&lt;dbl&gt;</th><th scope=col>&lt;dbl&gt;</th></tr>\n",
       "</thead>\n",
       "<tbody>\n",
       "\t<tr><th scope=row>707</th><td>2021-10-20</td><td> 865.35</td><td> 869.49</td><td> 857.38</td><td> 865.80</td><td>14032100</td><td> 865.80</td></tr>\n",
       "\t<tr><th scope=row>708</th><td>2021-10-21</td><td> 856.00</td><td> 900.00</td><td> 855.50</td><td> 894.00</td><td>31481500</td><td> 894.00</td></tr>\n",
       "\t<tr><th scope=row>709</th><td>2021-10-22</td><td> 895.50</td><td> 910.00</td><td> 890.96</td><td> 909.68</td><td>22880800</td><td> 909.68</td></tr>\n",
       "\t<tr><th scope=row>710</th><td>2021-10-25</td><td> 950.53</td><td>1045.02</td><td> 944.20</td><td>1024.86</td><td>62852100</td><td>1024.86</td></tr>\n",
       "\t<tr><th scope=row>711</th><td>2021-10-26</td><td>1024.69</td><td>1094.94</td><td>1001.44</td><td>1018.43</td><td>62415000</td><td>1018.43</td></tr>\n",
       "\t<tr><th scope=row>712</th><td>2021-10-27</td><td>1039.66</td><td>1070.88</td><td>1030.78</td><td>1037.86</td><td>38526500</td><td>1037.86</td></tr>\n",
       "\t<tr><th scope=row>713</th><td>2021-10-28</td><td>1068.31</td><td>1081.00</td><td>1054.20</td><td>1077.04</td><td>27213200</td><td>1077.04</td></tr>\n",
       "\t<tr><th scope=row>714</th><td>2021-10-29</td><td>1081.86</td><td>1115.21</td><td>1073.21</td><td>1114.00</td><td>29918400</td><td>1114.00</td></tr>\n",
       "\t<tr><th scope=row>715</th><td>2021-11-01</td><td>1145.00</td><td>1209.75</td><td>1118.66</td><td>1208.59</td><td>56048700</td><td>1208.59</td></tr>\n",
       "\t<tr><th scope=row>716</th><td>2021-11-02</td><td>1159.36</td><td>1208.59</td><td>1146.00</td><td>1172.00</td><td>42737800</td><td>1172.00</td></tr>\n",
       "\t<tr><th scope=row>717</th><td>2021-11-03</td><td>1177.33</td><td>1215.39</td><td>1152.68</td><td>1213.86</td><td>34628519</td><td>1213.86</td></tr>\n",
       "</tbody>\n",
       "</table>\n"
      ],
      "text/latex": [
       "A data.frame: 11 × 7\n",
       "\\begin{tabular}{r|lllllll}\n",
       "  & Date & TSLA.Open & TSLA.High & TSLA.Low & TSLA.Close & TSLA.Volume & TSLA.Adjusted\\\\\n",
       "  & <date> & <dbl> & <dbl> & <dbl> & <dbl> & <dbl> & <dbl>\\\\\n",
       "\\hline\n",
       "\t707 & 2021-10-20 &  865.35 &  869.49 &  857.38 &  865.80 & 14032100 &  865.80\\\\\n",
       "\t708 & 2021-10-21 &  856.00 &  900.00 &  855.50 &  894.00 & 31481500 &  894.00\\\\\n",
       "\t709 & 2021-10-22 &  895.50 &  910.00 &  890.96 &  909.68 & 22880800 &  909.68\\\\\n",
       "\t710 & 2021-10-25 &  950.53 & 1045.02 &  944.20 & 1024.86 & 62852100 & 1024.86\\\\\n",
       "\t711 & 2021-10-26 & 1024.69 & 1094.94 & 1001.44 & 1018.43 & 62415000 & 1018.43\\\\\n",
       "\t712 & 2021-10-27 & 1039.66 & 1070.88 & 1030.78 & 1037.86 & 38526500 & 1037.86\\\\\n",
       "\t713 & 2021-10-28 & 1068.31 & 1081.00 & 1054.20 & 1077.04 & 27213200 & 1077.04\\\\\n",
       "\t714 & 2021-10-29 & 1081.86 & 1115.21 & 1073.21 & 1114.00 & 29918400 & 1114.00\\\\\n",
       "\t715 & 2021-11-01 & 1145.00 & 1209.75 & 1118.66 & 1208.59 & 56048700 & 1208.59\\\\\n",
       "\t716 & 2021-11-02 & 1159.36 & 1208.59 & 1146.00 & 1172.00 & 42737800 & 1172.00\\\\\n",
       "\t717 & 2021-11-03 & 1177.33 & 1215.39 & 1152.68 & 1213.86 & 34628519 & 1213.86\\\\\n",
       "\\end{tabular}\n"
      ],
      "text/markdown": [
       "\n",
       "A data.frame: 11 × 7\n",
       "\n",
       "| <!--/--> | Date &lt;date&gt; | TSLA.Open &lt;dbl&gt; | TSLA.High &lt;dbl&gt; | TSLA.Low &lt;dbl&gt; | TSLA.Close &lt;dbl&gt; | TSLA.Volume &lt;dbl&gt; | TSLA.Adjusted &lt;dbl&gt; |\n",
       "|---|---|---|---|---|---|---|---|\n",
       "| 707 | 2021-10-20 |  865.35 |  869.49 |  857.38 |  865.80 | 14032100 |  865.80 |\n",
       "| 708 | 2021-10-21 |  856.00 |  900.00 |  855.50 |  894.00 | 31481500 |  894.00 |\n",
       "| 709 | 2021-10-22 |  895.50 |  910.00 |  890.96 |  909.68 | 22880800 |  909.68 |\n",
       "| 710 | 2021-10-25 |  950.53 | 1045.02 |  944.20 | 1024.86 | 62852100 | 1024.86 |\n",
       "| 711 | 2021-10-26 | 1024.69 | 1094.94 | 1001.44 | 1018.43 | 62415000 | 1018.43 |\n",
       "| 712 | 2021-10-27 | 1039.66 | 1070.88 | 1030.78 | 1037.86 | 38526500 | 1037.86 |\n",
       "| 713 | 2021-10-28 | 1068.31 | 1081.00 | 1054.20 | 1077.04 | 27213200 | 1077.04 |\n",
       "| 714 | 2021-10-29 | 1081.86 | 1115.21 | 1073.21 | 1114.00 | 29918400 | 1114.00 |\n",
       "| 715 | 2021-11-01 | 1145.00 | 1209.75 | 1118.66 | 1208.59 | 56048700 | 1208.59 |\n",
       "| 716 | 2021-11-02 | 1159.36 | 1208.59 | 1146.00 | 1172.00 | 42737800 | 1172.00 |\n",
       "| 717 | 2021-11-03 | 1177.33 | 1215.39 | 1152.68 | 1213.86 | 34628519 | 1213.86 |\n",
       "\n"
      ],
      "text/plain": [
       "    Date       TSLA.Open TSLA.High TSLA.Low TSLA.Close TSLA.Volume\n",
       "707 2021-10-20  865.35    869.49    857.38   865.80    14032100   \n",
       "708 2021-10-21  856.00    900.00    855.50   894.00    31481500   \n",
       "709 2021-10-22  895.50    910.00    890.96   909.68    22880800   \n",
       "710 2021-10-25  950.53   1045.02    944.20  1024.86    62852100   \n",
       "711 2021-10-26 1024.69   1094.94   1001.44  1018.43    62415000   \n",
       "712 2021-10-27 1039.66   1070.88   1030.78  1037.86    38526500   \n",
       "713 2021-10-28 1068.31   1081.00   1054.20  1077.04    27213200   \n",
       "714 2021-10-29 1081.86   1115.21   1073.21  1114.00    29918400   \n",
       "715 2021-11-01 1145.00   1209.75   1118.66  1208.59    56048700   \n",
       "716 2021-11-02 1159.36   1208.59   1146.00  1172.00    42737800   \n",
       "717 2021-11-03 1177.33   1215.39   1152.68  1213.86    34628519   \n",
       "    TSLA.Adjusted\n",
       "707  865.80      \n",
       "708  894.00      \n",
       "709  909.68      \n",
       "710 1024.86      \n",
       "711 1018.43      \n",
       "712 1037.86      \n",
       "713 1077.04      \n",
       "714 1114.00      \n",
       "715 1208.59      \n",
       "716 1172.00      \n",
       "717 1213.86      "
      ]
     },
     "metadata": {},
     "output_type": "display_data"
    }
   ],
   "source": [
    "TSLA_STOCK[(n_row-10):n_row,]"
   ]
  },
  {
   "cell_type": "code",
   "execution_count": 75,
   "id": "1ea2e628",
   "metadata": {},
   "outputs": [],
   "source": [
    "Time_to_maturity = NULL\n",
    "DELTA = NULL\n",
    "row_index = NULL\n",
    "\n",
    "DELTA_DELTA = NULL\n",
    "\n",
    "v = .64946084322086    # Volatility\n",
    "r = .00045             # risk-free rate\n",
    "d = 0                  # dividend yeild\n",
    "nsteps = 50            # number of time steps .... Anything beyond 50 could be extreme.\n",
    "k = 870                # Strike Price\n",
    "\n",
    "\n",
    "for(i in 1:n_row){\n",
    "#for(i in 1:10){\n",
    "    date_i = TSLA_STOCK$Date[i]\n",
    "    delta_t = as.numeric(bizdays::bizdays(date_i, end_date, cal = cal))\n",
    "    delta_t = delta_t / 252\n",
    "    \n",
    "    # find the time to maturity\n",
    "    Time_to_maturity[i] = delta_t\n",
    "    \n",
    "    # find the current stock price\n",
    "    stock_i = TSLA_STOCK$TSLA.Close[i]\n",
    "    \n",
    "    df = derivmkts::binomopt(stock_i, k , v , r , delta_t , d , nsteps,\n",
    "                         putopt=FALSE,   \n",
    "                         american=TRUE,   \n",
    "                         returntrees=TRUE)\n",
    "\n",
    "    delta = as.numeric(df$greeks[1])\n",
    "    DELTA[i] = delta\n",
    "    \n",
    "    row_index[i] = i\n",
    "    \n",
    "    if(i==1){\n",
    "        delta_delta = 0\n",
    "    }\n",
    "    else{\n",
    "        delta_delta = DELTA[i] - DELTA[i-1]\n",
    "    }\n",
    "    DELTA_DELTA[i] = delta_delta\n",
    "}\n",
    "\n",
    "\n",
    "\n",
    "TSLA_STOCK$row_index = row_index\n",
    "TSLA_STOCK$Delta = DELTA\n",
    "TSLA_STOCK$Change_in_Delta = DELTA_DELTA\n"
   ]
  },
  {
   "cell_type": "code",
   "execution_count": 76,
   "id": "08331ae7",
   "metadata": {},
   "outputs": [
    {
     "data": {
      "text/html": [
       "<table class=\"dataframe\">\n",
       "<caption>A data.frame: 3 × 10</caption>\n",
       "<thead>\n",
       "\t<tr><th></th><th scope=col>Date</th><th scope=col>TSLA.Open</th><th scope=col>TSLA.High</th><th scope=col>TSLA.Low</th><th scope=col>TSLA.Close</th><th scope=col>TSLA.Volume</th><th scope=col>TSLA.Adjusted</th><th scope=col>row_index</th><th scope=col>Delta</th><th scope=col>Change_in_Delta</th></tr>\n",
       "\t<tr><th></th><th scope=col>&lt;date&gt;</th><th scope=col>&lt;dbl&gt;</th><th scope=col>&lt;dbl&gt;</th><th scope=col>&lt;dbl&gt;</th><th scope=col>&lt;dbl&gt;</th><th scope=col>&lt;dbl&gt;</th><th scope=col>&lt;dbl&gt;</th><th scope=col>&lt;int&gt;</th><th scope=col>&lt;dbl&gt;</th><th scope=col>&lt;dbl&gt;</th></tr>\n",
       "</thead>\n",
       "<tbody>\n",
       "\t<tr><th scope=row>1</th><td>2019-01-02</td><td>61.22</td><td>63.026</td><td>59.760</td><td>62.024</td><td>58293000</td><td>62.024</td><td>1</td><td>0.03279202</td><td> 0.000000000</td></tr>\n",
       "\t<tr><th scope=row>2</th><td>2019-01-03</td><td>61.40</td><td>61.880</td><td>59.476</td><td>60.072</td><td>34826000</td><td>60.072</td><td>2</td><td>0.03072367</td><td>-0.002068346</td></tr>\n",
       "\t<tr><th scope=row>3</th><td>2019-01-04</td><td>61.20</td><td>63.600</td><td>60.546</td><td>63.538</td><td>36970500</td><td>63.538</td><td>3</td><td>0.03394623</td><td> 0.003222556</td></tr>\n",
       "</tbody>\n",
       "</table>\n"
      ],
      "text/latex": [
       "A data.frame: 3 × 10\n",
       "\\begin{tabular}{r|llllllllll}\n",
       "  & Date & TSLA.Open & TSLA.High & TSLA.Low & TSLA.Close & TSLA.Volume & TSLA.Adjusted & row\\_index & Delta & Change\\_in\\_Delta\\\\\n",
       "  & <date> & <dbl> & <dbl> & <dbl> & <dbl> & <dbl> & <dbl> & <int> & <dbl> & <dbl>\\\\\n",
       "\\hline\n",
       "\t1 & 2019-01-02 & 61.22 & 63.026 & 59.760 & 62.024 & 58293000 & 62.024 & 1 & 0.03279202 &  0.000000000\\\\\n",
       "\t2 & 2019-01-03 & 61.40 & 61.880 & 59.476 & 60.072 & 34826000 & 60.072 & 2 & 0.03072367 & -0.002068346\\\\\n",
       "\t3 & 2019-01-04 & 61.20 & 63.600 & 60.546 & 63.538 & 36970500 & 63.538 & 3 & 0.03394623 &  0.003222556\\\\\n",
       "\\end{tabular}\n"
      ],
      "text/markdown": [
       "\n",
       "A data.frame: 3 × 10\n",
       "\n",
       "| <!--/--> | Date &lt;date&gt; | TSLA.Open &lt;dbl&gt; | TSLA.High &lt;dbl&gt; | TSLA.Low &lt;dbl&gt; | TSLA.Close &lt;dbl&gt; | TSLA.Volume &lt;dbl&gt; | TSLA.Adjusted &lt;dbl&gt; | row_index &lt;int&gt; | Delta &lt;dbl&gt; | Change_in_Delta &lt;dbl&gt; |\n",
       "|---|---|---|---|---|---|---|---|---|---|---|\n",
       "| 1 | 2019-01-02 | 61.22 | 63.026 | 59.760 | 62.024 | 58293000 | 62.024 | 1 | 0.03279202 |  0.000000000 |\n",
       "| 2 | 2019-01-03 | 61.40 | 61.880 | 59.476 | 60.072 | 34826000 | 60.072 | 2 | 0.03072367 | -0.002068346 |\n",
       "| 3 | 2019-01-04 | 61.20 | 63.600 | 60.546 | 63.538 | 36970500 | 63.538 | 3 | 0.03394623 |  0.003222556 |\n",
       "\n"
      ],
      "text/plain": [
       "  Date       TSLA.Open TSLA.High TSLA.Low TSLA.Close TSLA.Volume TSLA.Adjusted\n",
       "1 2019-01-02 61.22     63.026    59.760   62.024     58293000    62.024       \n",
       "2 2019-01-03 61.40     61.880    59.476   60.072     34826000    60.072       \n",
       "3 2019-01-04 61.20     63.600    60.546   63.538     36970500    63.538       \n",
       "  row_index Delta      Change_in_Delta\n",
       "1 1         0.03279202  0.000000000   \n",
       "2 2         0.03072367 -0.002068346   \n",
       "3 3         0.03394623  0.003222556   "
      ]
     },
     "metadata": {},
     "output_type": "display_data"
    }
   ],
   "source": [
    "TSLA_STOCK[1:3,]"
   ]
  },
  {
   "cell_type": "code",
   "execution_count": 67,
   "id": "d2fa299c",
   "metadata": {},
   "outputs": [
    {
     "data": {
      "image/png": "[encoded data removed]",
      "text/plain": [
       "plot without title"
      ]
     },
     "metadata": {},
     "output_type": "display_data"
    }
   ],
   "source": [
    "plot(TSLA_STOCK$row_index, \n",
    "     TSLA_STOCK$Delta, \n",
    "     type = 'l')"
   ]
  },
  {
   "cell_type": "code",
   "execution_count": 68,
   "id": "d02a04fe",
   "metadata": {},
   "outputs": [
    {
     "data": {
      "image/png": "[encoded data removed]",
      "text/plain": [
       "plot without title"
      ]
     },
     "metadata": {},
     "output_type": "display_data"
    }
   ],
   "source": [
    "plot(TSLA_STOCK$row_index, \n",
    "     TSLA_STOCK$TSLA.Close, \n",
    "     type = 'l')"
   ]
  },
  {
   "cell_type": "markdown",
   "id": "a3f59d23",
   "metadata": {},
   "source": [
    "---"
   ]
  },
  {
   "cell_type": "code",
   "execution_count": 13,
   "id": "9706c98a",
   "metadata": {},
   "outputs": [],
   "source": []
  },
  {
   "cell_type": "code",
   "execution_count": 4,
   "id": "3f6ff6c1",
   "metadata": {},
   "outputs": [],
   "source": [
    "df = derivmkts::binomopt(s, k , v , r , t , d , nsteps,\n",
    "                         putopt=FALSE,    # <----- putopt = FALSE (price for call option) \n",
    "                         american=TRUE,   # <----- american = TRUE (price for american option). This should always be TRUE\n",
    "                         returntrees=TRUE)# <----- returntrees = TRUE (returns the option price). This should always be TRUE\n"
   ]
  },
  {
   "cell_type": "code",
   "execution_count": 7,
   "id": "d0d1a108",
   "metadata": {},
   "outputs": [
    {
     "data": {
      "text/html": [
       "<strong>price:</strong> 34.1690134644903"
      ],
      "text/latex": [
       "\\textbf{price:} 34.1690134644903"
      ],
      "text/markdown": [
       "**price:** 34.1690134644903"
      ],
      "text/plain": [
       "   price \n",
       "34.16901 "
      ]
     },
     "metadata": {},
     "output_type": "display_data"
    }
   ],
   "source": [
    "df$price"
   ]
  },
  {
   "cell_type": "code",
   "execution_count": null,
   "id": "0d470833",
   "metadata": {},
   "outputs": [],
   "source": []
  }
 ],
 "metadata": {
  "kernelspec": {
   "display_name": "R 3.3",
   "language": "R",
   "name": "ir33"
  },
  "language_info": {
   "codemirror_mode": "r",
   "file_extension": ".r",
   "mimetype": "text/x-r-source",
   "name": "R",
   "pygments_lexer": "r",
   "version": "3.6.1"
  }
 },
 "nbformat": 4,
 "nbformat_minor": 5
}
