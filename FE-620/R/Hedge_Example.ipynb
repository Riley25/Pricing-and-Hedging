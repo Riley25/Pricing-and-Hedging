{
 "cells": [
  {
   "cell_type": "markdown",
   "id": "82b0cf8f",
   "metadata": {},
   "source": [
    "## Hedge Example"
   ]
  },
  {
   "cell_type": "code",
   "execution_count": 24,
   "id": "98c875c0",
   "metadata": {},
   "outputs": [],
   "source": [
    "suppressMessages(library('dplyr'))\n",
    "suppressMessages(library('quantmod'))\n",
    "suppressMessages(library('repr'))\n",
    "suppressMessages(library('xlsx'))\n",
    "suppressMessages(library('derivmkts'))\n",
    "suppressMessages(library('ggplot2'))\n",
    "suppressMessages(library('moments'))\n",
    "suppressMessages(library('bizdays'))\n",
    "suppressMessages(library('lubridate'))\n",
    "# This changes the size of plots\n",
    "options(repr.plot.width = 5, repr.plot.height =4.5)"
   ]
  },
  {
   "cell_type": "code",
   "execution_count": 38,
   "id": "7936866b",
   "metadata": {},
   "outputs": [
    {
     "data": {
      "text/html": [
       "'aaa'"
      ],
      "text/latex": [
       "'aaa'"
      ],
      "text/markdown": [
       "'aaa'"
      ],
      "text/plain": [
       "[1] \"aaa\""
      ]
     },
     "metadata": {},
     "output_type": "display_data"
    }
   ],
   "source": [
    "letters = letters\n",
    "\n",
    "make_letters = function(){\n",
    "  new_letters = NULL\n",
    "  count  = 0\n",
    "  for (i in 1:26) {\n",
    "    for(j in 1:26){\n",
    "      for(k in 1:26){\n",
    "        count = count + 1\n",
    "        new_letters[count] = paste(c(letters[i],letters[j], letters[k]),collapse = '')\n",
    "    }\n",
    "   }\n",
    "  }\n",
    "  return(new_letters)\n",
    "}\n",
    "many_letters = make_letters()\n",
    "many_letters[1]"
   ]
  },
  {
   "cell_type": "markdown",
   "id": "957d2514",
   "metadata": {},
   "source": [
    "---\n",
    "\n",
    "### GBM function below"
   ]
  },
  {
   "cell_type": "code",
   "execution_count": 26,
   "id": "3ba78113",
   "metadata": {},
   "outputs": [
    {
     "ename": "ERROR",
     "evalue": "Error: argument \"sigma\" is missing, with no default\n",
     "output_type": "error",
     "traceback": [
      "Error: argument \"sigma\" is missing, with no default\nTraceback:\n",
      "1. GBM(10, S_0, delta_t, sigma)"
     ]
    }
   ],
   "source": [
    "S_0 = 100\n",
    "r = 0\n",
    "delta_t = 1/252\n",
    "sigma = .10\n",
    "\n",
    "GBM = function(N, S_0, r, delta_t, sigma ){\n",
    "    Y = NULL\n",
    "    Y[1] = S_0\n",
    "    \n",
    "    for(i in 2:N){\n",
    "        previous_price = Y[i-1]\n",
    "        random_number = rnorm(1, mean = 0, sd = 1)\n",
    "        Y[i] = previous_price * exp( (sigma)*random_number *sqrt(delta_t) + (r - (sigma^2)* .5 * delta_t))\n",
    "    }\n",
    "    return(Y)\n",
    "}\n",
    "\n",
    "GBM(10, S_0, delta_t, sigma)"
   ]
  },
  {
   "cell_type": "markdown",
   "id": "f202b3c5",
   "metadata": {},
   "source": [
    "### Fancy animation here"
   ]
  },
  {
   "cell_type": "code",
   "execution_count": 29,
   "id": "245b342d",
   "metadata": {},
   "outputs": [
    {
     "data": {
      "text/html": [
       "<table class=\"dataframe\">\n",
       "<caption>A data.frame: 3 × 3</caption>\n",
       "<thead>\n",
       "\t<tr><th></th><th scope=col>X</th><th scope=col>Y</th><th scope=col>series</th></tr>\n",
       "\t<tr><th></th><th scope=col>&lt;dbl&gt;</th><th scope=col>&lt;dbl&gt;</th><th scope=col>&lt;fct&gt;</th></tr>\n",
       "</thead>\n",
       "<tbody>\n",
       "\t<tr><th scope=row>1</th><td>1</td><td>100.0000</td><td>a</td></tr>\n",
       "\t<tr><th scope=row>2</th><td>2</td><td>100.7360</td><td>a</td></tr>\n",
       "\t<tr><th scope=row>3</th><td>3</td><td>102.1696</td><td>a</td></tr>\n",
       "</tbody>\n",
       "</table>\n"
      ],
      "text/latex": [
       "A data.frame: 3 × 3\n",
       "\\begin{tabular}{r|lll}\n",
       "  & X & Y & series\\\\\n",
       "  & <dbl> & <dbl> & <fct>\\\\\n",
       "\\hline\n",
       "\t1 & 1 & 100.0000 & a\\\\\n",
       "\t2 & 2 & 100.7360 & a\\\\\n",
       "\t3 & 3 & 102.1696 & a\\\\\n",
       "\\end{tabular}\n"
      ],
      "text/markdown": [
       "\n",
       "A data.frame: 3 × 3\n",
       "\n",
       "| <!--/--> | X &lt;dbl&gt; | Y &lt;dbl&gt; | series &lt;fct&gt; |\n",
       "|---|---|---|---|\n",
       "| 1 | 1 | 100.0000 | a |\n",
       "| 2 | 2 | 100.7360 | a |\n",
       "| 3 | 3 | 102.1696 | a |\n",
       "\n"
      ],
      "text/plain": [
       "  X Y        series\n",
       "1 1 100.0000 a     \n",
       "2 2 100.7360 a     \n",
       "3 3 102.1696 a     "
      ]
     },
     "metadata": {},
     "output_type": "display_data"
    }
   ],
   "source": [
    "n_time = 150\n",
    "n_lines = 10\n",
    "\n",
    "for(i in 1:n_lines){\n",
    "    X = seq(1, n_time, 1)\n",
    "    Y = GBM(n_time, S_0, r, delta_t, sigma)\n",
    "    \n",
    "    series = rep(letters[i], n_time)\n",
    "    \n",
    "    if(i == 1){\n",
    "        df = data.frame(X, Y, series)\n",
    "    }\n",
    "    else{\n",
    "        new_df = data.frame(X, Y, series)\n",
    "        df = rbind(df, new_df)\n",
    "    }\n",
    "}\n",
    "\n",
    "df[1:3, ]"
   ]
  },
  {
   "cell_type": "code",
   "execution_count": 42,
   "id": "c1fdb34c",
   "metadata": {},
   "outputs": [
    {
     "name": "stdout",
     "output_type": "stream",
     "text": [
      "[1] \"aac.png, i = 3\"\n",
      "[1] \"aad.png, i = 4\"\n",
      "[1] \"aae.png, i = 5\"\n",
      "[1] \"aaf.png, i = 6\"\n",
      "[1] \"aag.png, i = 7\"\n",
      "[1] \"aah.png, i = 8\"\n",
      "[1] \"aai.png, i = 9\"\n",
      "[1] \"aaj.png, i = 10\"\n",
      "[1] \"aak.png, i = 11\"\n",
      "[1] \"aal.png, i = 12\"\n",
      "[1] \"aam.png, i = 13\"\n",
      "[1] \"aan.png, i = 14\"\n",
      "[1] \"aao.png, i = 15\"\n",
      "[1] \"aap.png, i = 16\"\n",
      "[1] \"aaq.png, i = 17\"\n",
      "[1] \"aar.png, i = 18\"\n",
      "[1] \"aas.png, i = 19\"\n",
      "[1] \"aat.png, i = 20\"\n",
      "[1] \"aau.png, i = 21\"\n",
      "[1] \"aav.png, i = 22\"\n",
      "[1] \"aaw.png, i = 23\"\n",
      "[1] \"aax.png, i = 24\"\n",
      "[1] \"aay.png, i = 25\"\n",
      "[1] \"aaz.png, i = 26\"\n",
      "[1] \"aba.png, i = 27\"\n",
      "[1] \"abb.png, i = 28\"\n",
      "[1] \"abc.png, i = 29\"\n",
      "[1] \"abd.png, i = 30\"\n",
      "[1] \"abe.png, i = 31\"\n",
      "[1] \"abf.png, i = 32\"\n",
      "[1] \"abg.png, i = 33\"\n",
      "[1] \"abh.png, i = 34\"\n",
      "[1] \"abi.png, i = 35\"\n",
      "[1] \"abj.png, i = 36\"\n",
      "[1] \"abk.png, i = 37\"\n",
      "[1] \"abl.png, i = 38\"\n",
      "[1] \"abm.png, i = 39\"\n",
      "[1] \"abn.png, i = 40\"\n",
      "[1] \"abo.png, i = 41\"\n",
      "[1] \"abp.png, i = 42\"\n",
      "[1] \"abq.png, i = 43\"\n",
      "[1] \"abr.png, i = 44\"\n",
      "[1] \"abs.png, i = 45\"\n",
      "[1] \"abt.png, i = 46\"\n",
      "[1] \"abu.png, i = 47\"\n",
      "[1] \"abv.png, i = 48\"\n",
      "[1] \"abw.png, i = 49\"\n",
      "[1] \"abx.png, i = 50\"\n",
      "[1] \"aby.png, i = 51\"\n",
      "[1] \"abz.png, i = 52\"\n",
      "[1] \"aca.png, i = 53\"\n",
      "[1] \"acb.png, i = 54\"\n",
      "[1] \"acc.png, i = 55\"\n",
      "[1] \"acd.png, i = 56\"\n",
      "[1] \"ace.png, i = 57\"\n",
      "[1] \"acf.png, i = 58\"\n",
      "[1] \"acg.png, i = 59\"\n",
      "[1] \"ach.png, i = 60\"\n",
      "[1] \"aci.png, i = 61\"\n",
      "[1] \"acj.png, i = 62\"\n",
      "[1] \"ack.png, i = 63\"\n",
      "[1] \"acl.png, i = 64\"\n",
      "[1] \"acm.png, i = 65\"\n",
      "[1] \"acn.png, i = 66\"\n",
      "[1] \"aco.png, i = 67\"\n",
      "[1] \"acp.png, i = 68\"\n",
      "[1] \"acq.png, i = 69\"\n",
      "[1] \"acr.png, i = 70\"\n",
      "[1] \"acs.png, i = 71\"\n",
      "[1] \"act.png, i = 72\"\n",
      "[1] \"acu.png, i = 73\"\n",
      "[1] \"acv.png, i = 74\"\n",
      "[1] \"acw.png, i = 75\"\n",
      "[1] \"acx.png, i = 76\"\n",
      "[1] \"acy.png, i = 77\"\n",
      "[1] \"acz.png, i = 78\"\n",
      "[1] \"ada.png, i = 79\"\n",
      "[1] \"adb.png, i = 80\"\n",
      "[1] \"adc.png, i = 81\"\n",
      "[1] \"add.png, i = 82\"\n",
      "[1] \"ade.png, i = 83\"\n",
      "[1] \"adf.png, i = 84\"\n",
      "[1] \"adg.png, i = 85\"\n",
      "[1] \"adh.png, i = 86\"\n",
      "[1] \"adi.png, i = 87\"\n",
      "[1] \"adj.png, i = 88\"\n",
      "[1] \"adk.png, i = 89\"\n",
      "[1] \"adl.png, i = 90\"\n",
      "[1] \"adm.png, i = 91\"\n",
      "[1] \"adn.png, i = 92\"\n",
      "[1] \"ado.png, i = 93\"\n",
      "[1] \"adp.png, i = 94\"\n",
      "[1] \"adq.png, i = 95\"\n",
      "[1] \"adr.png, i = 96\"\n",
      "[1] \"ads.png, i = 97\"\n",
      "[1] \"adt.png, i = 98\"\n",
      "[1] \"adu.png, i = 99\"\n",
      "[1] \"adv.png, i = 100\"\n",
      "[1] \"adw.png, i = 101\"\n",
      "[1] \"adx.png, i = 102\"\n",
      "[1] \"ady.png, i = 103\"\n",
      "[1] \"adz.png, i = 104\"\n",
      "[1] \"aea.png, i = 105\"\n",
      "[1] \"aeb.png, i = 106\"\n",
      "[1] \"aec.png, i = 107\"\n",
      "[1] \"aed.png, i = 108\"\n",
      "[1] \"aee.png, i = 109\"\n",
      "[1] \"aef.png, i = 110\"\n",
      "[1] \"aeg.png, i = 111\"\n",
      "[1] \"aeh.png, i = 112\"\n",
      "[1] \"aei.png, i = 113\"\n",
      "[1] \"aej.png, i = 114\"\n",
      "[1] \"aek.png, i = 115\"\n",
      "[1] \"ael.png, i = 116\"\n",
      "[1] \"aem.png, i = 117\"\n",
      "[1] \"aen.png, i = 118\"\n",
      "[1] \"aeo.png, i = 119\"\n",
      "[1] \"aep.png, i = 120\"\n",
      "[1] \"aeq.png, i = 121\"\n",
      "[1] \"aer.png, i = 122\"\n",
      "[1] \"aes.png, i = 123\"\n",
      "[1] \"aet.png, i = 124\"\n",
      "[1] \"aeu.png, i = 125\"\n",
      "[1] \"aev.png, i = 126\"\n",
      "[1] \"aew.png, i = 127\"\n",
      "[1] \"aex.png, i = 128\"\n",
      "[1] \"aey.png, i = 129\"\n",
      "[1] \"aez.png, i = 130\"\n",
      "[1] \"afa.png, i = 131\"\n",
      "[1] \"afb.png, i = 132\"\n",
      "[1] \"afc.png, i = 133\"\n",
      "[1] \"afd.png, i = 134\"\n",
      "[1] \"afe.png, i = 135\"\n",
      "[1] \"aff.png, i = 136\"\n",
      "[1] \"afg.png, i = 137\"\n",
      "[1] \"afh.png, i = 138\"\n",
      "[1] \"afi.png, i = 139\"\n",
      "[1] \"afj.png, i = 140\"\n",
      "[1] \"afk.png, i = 141\"\n",
      "[1] \"afl.png, i = 142\"\n",
      "[1] \"afm.png, i = 143\"\n",
      "[1] \"afn.png, i = 144\"\n",
      "[1] \"afo.png, i = 145\"\n",
      "[1] \"afp.png, i = 146\"\n",
      "[1] \"afq.png, i = 147\"\n",
      "[1] \"afr.png, i = 148\"\n",
      "[1] \"afs.png, i = 149\"\n",
      "[1] \"aft.png, i = 150\"\n"
     ]
    }
   ],
   "source": [
    "setwd('/home/jupyter-riley/FE-620/R/Plots/GBM')\n",
    "\n",
    "y_max = max(df$Y) * 1.05\n",
    "y_min = min(df$Y) * .98 \n",
    "\n",
    "for(i in 3:n_time){\n",
    "    sub_df = df %>% \n",
    "                filter(X < i)\n",
    "\n",
    "    plot_1 <- ggplot(sub_df) +\n",
    "        geom_line(aes(x = X, y = Y, colour = series), size = .41)+\n",
    "        labs(\n",
    "        title = \"Geometric Brownian Motion\",\n",
    "        x = \"Time\",\n",
    "        y = \"Stock Value\") +\n",
    "        xlim(0, n_time) + \n",
    "        ylim(y_min, y_max) + \n",
    "        theme_linedraw() + \n",
    "        theme(legend.position = \"none\")\n",
    "    \n",
    "    file_name = paste(c(many_letters[i], \".png\"), collapse = '')\n",
    "    print(paste(c(file_name, \", i = \", i), collapse = ''))\n",
    "    ggsave(file_name, device = 'png', height = 5, width = 4.5)\n",
    "}\n",
    "\n",
    "setwd('/home/jupyter-riley/FE-620/R')"
   ]
  },
  {
   "cell_type": "code",
   "execution_count": 49,
   "id": "e09435be",
   "metadata": {},
   "outputs": [
    {
     "name": "stdout",
     "output_type": "stream",
     "text": [
      "\r",
      "Frame 1 (0%)\r",
      "Frame 2 (1%)\r",
      "Frame 3 (2%)\r",
      "Frame 4 (2%)\r",
      "Frame 5 (3%)\r",
      "Frame 6 (4%)\r",
      "Frame 7 (4%)\r",
      "Frame 8 (5%)\r",
      "Frame 9 (6%)\r",
      "Frame 10 (6%)\r",
      "Frame 11 (7%)\r",
      "Frame 12 (8%)\r",
      "Frame 13 (8%)\r",
      "Frame 14 (9%)\r",
      "Frame 15 (10%)\r",
      "Frame 16 (10%)\r",
      "Frame 17 (11%)\r",
      "Frame 18 (12%)\r",
      "Frame 19 (12%)\r",
      "Frame 20 (13%)\r",
      "Frame 21 (14%)\r",
      "Frame 22 (14%)\r",
      "Frame 23 (15%)\r",
      "Frame 24 (16%)\r",
      "Frame 25 (16%)\r",
      "Frame 26 (17%)\r",
      "Frame 27 (18%)\r",
      "Frame 28 (18%)\r",
      "Frame 29 (19%)\r",
      "Frame 30 (20%)\r",
      "Frame 31 (20%)\r",
      "Frame 32 (21%)\r",
      "Frame 33 (22%)\r",
      "Frame 34 (22%)\r",
      "Frame 35 (23%)\r",
      "Frame 36 (24%)\r",
      "Frame 37 (25%)\r",
      "Frame 38 (25%)\r",
      "Frame 39 (26%)\r",
      "Frame 40 (27%)\r",
      "Frame 41 (27%)\r",
      "Frame 42 (28%)\r",
      "Frame 43 (29%)\r",
      "Frame 44 (29%)\r",
      "Frame 45 (30%)\r",
      "Frame 46 (31%)\r",
      "Frame 47 (31%)\r",
      "Frame 48 (32%)\r",
      "Frame 49 (33%)\r",
      "Frame 50 (33%)\r",
      "Frame 51 (34%)\r",
      "Frame 52 (35%)\r",
      "Frame 53 (35%)\r",
      "Frame 54 (36%)\r",
      "Frame 55 (37%)\r",
      "Frame 56 (37%)\r",
      "Frame 57 (38%)\r",
      "Frame 58 (39%)\r",
      "Frame 59 (39%)\r",
      "Frame 60 (40%)\r",
      "Frame 61 (41%)\r",
      "Frame 62 (41%)\r",
      "Frame 63 (42%)\r",
      "Frame 64 (43%)\r",
      "Frame 65 (43%)\r",
      "Frame 66 (44%)\r",
      "Frame 67 (45%)\r",
      "Frame 68 (45%)\r",
      "Frame 69 (46%)\r",
      "Frame 70 (47%)\r",
      "Frame 71 (47%)\r",
      "Frame 72 (48%)\r",
      "Frame 73 (49%)\r",
      "Frame 74 (50%)\r",
      "Frame 75 (50%)\r",
      "Frame 76 (51%)\r",
      "Frame 77 (52%)\r",
      "Frame 78 (52%)\r",
      "Frame 79 (53%)\r",
      "Frame 80 (54%)\r",
      "Frame 81 (54%)\r",
      "Frame 82 (55%)\r",
      "Frame 83 (56%)\r",
      "Frame 84 (56%)\r",
      "Frame 85 (57%)\r",
      "Frame 86 (58%)\r",
      "Frame 87 (58%)\r",
      "Frame 88 (59%)\r",
      "Frame 89 (60%)\r",
      "Frame 90 (60%)\r",
      "Frame 91 (61%)\r",
      "Frame 92 (62%)\r",
      "Frame 93 (62%)\r",
      "Frame 94 (63%)\r",
      "Frame 95 (64%)\r",
      "Frame 96 (64%)\r",
      "Frame 97 (65%)\r",
      "Frame 98 (66%)\r",
      "Frame 99 (66%)\r",
      "Frame 100 (67%)\r",
      "Frame 101 (68%)\r",
      "Frame 102 (68%)\r",
      "Frame 103 (69%)\r",
      "Frame 104 (70%)\r",
      "Frame 105 (70%)\r",
      "Frame 106 (71%)\r",
      "Frame 107 (72%)\r",
      "Frame 108 (72%)\r",
      "Frame 109 (73%)\r",
      "Frame 110 (74%)\r",
      "Frame 111 (75%)\r",
      "Frame 112 (75%)\r",
      "Frame 113 (76%)\r",
      "Frame 114 (77%)\r",
      "Frame 115 (77%)\r",
      "Frame 116 (78%)\r",
      "Frame 117 (79%)\r",
      "Frame 118 (79%)\r",
      "Frame 119 (80%)\r",
      "Frame 120 (81%)\r",
      "Frame 121 (81%)\r",
      "Frame 122 (82%)\r",
      "Frame 123 (83%)\r",
      "Frame 124 (83%)\r",
      "Frame 125 (84%)\r",
      "Frame 126 (85%)\r",
      "Frame 127 (85%)\r",
      "Frame 128 (86%)\r",
      "Frame 129 (87%)\r",
      "Frame 130 (87%)\r",
      "Frame 131 (88%)\r",
      "Frame 132 (89%)\r",
      "Frame 133 (89%)\r",
      "Frame 134 (90%)\r",
      "Frame 135 (91%)\r",
      "Frame 136 (91%)\r",
      "Frame 137 (92%)\r",
      "Frame 138 (93%)\r",
      "Frame 139 (93%)\r",
      "Frame 140 (94%)\r",
      "Frame 141 (95%)\r",
      "Frame 142 (95%)\r",
      "Frame 143 (96%)\r",
      "Frame 144 (97%)\r",
      "Frame 145 (97%)\r",
      "Frame 146 (98%)\r",
      "Frame 147 (99%)\r",
      "Frame 148 (100%)\n",
      "Finalizing encoding... done!\n"
     ]
    },
    {
     "data": {
      "text/html": [
       "'aaaa_GBM.gif'"
      ],
      "text/latex": [
       "'aaaa\\_GBM.gif'"
      ],
      "text/markdown": [
       "'aaaa_GBM.gif'"
      ],
      "text/plain": [
       "[1] \"aaaa_GBM.gif\""
      ]
     },
     "metadata": {},
     "output_type": "display_data"
    }
   ],
   "source": [
    "setwd('/home/jupyter-riley/FE-620/R/Plots/GBM')\n",
    "\n",
    "png_files <- list.files( full.names = TRUE)\n",
    "png_files = sort(png_files, decreasing=FALSE)\n",
    "\n",
    "gifski::gifski(png_files, gif_file = \"aaaa_GBM.gif\", width = 800, \n",
    "               height = 800, delay = .03, loop = FALSE, progress = TRUE)\n",
    "\n",
    "setwd('/home/jupyter-riley/FE-620/R')"
   ]
  },
  {
   "cell_type": "markdown",
   "id": "bad7fca0",
   "metadata": {},
   "source": [
    "---\n",
    "\n",
    "### The actual work begins here \n",
    "\n",
    "| Stock Price | Delta | Shares to Purchase          |  Total Cost $$S X \\Delta $$   | Cumulative Cost | Total Shares Owned |\n",
    "| :---        | :---- | :---                        | :---                          |:---             |:---             |\n",
    "|  100        |  .8   |  $$Delta_{1}$$              | $$TC_{1}$$                    | $$CC_{1}$$      |? |\n",
    "|  105        |  .6   |  $$Delta_{2} - Delta_{1}$$  | $$TC_{2}$$                    | $$CC_{1}$$      |? |\n",
    "\n",
    "\n",
    "\n",
    "\n",
    "### Step 1 Generate a single Stock Path\n",
    "\n"
   ]
  },
  {
   "cell_type": "code",
   "execution_count": 50,
   "id": "8686291f",
   "metadata": {},
   "outputs": [
    {
     "data": {
      "text/html": [
       "<style>\n",
       ".list-inline {list-style: none; margin:0; padding: 0}\n",
       ".list-inline>li {display: inline-block}\n",
       ".list-inline>li:not(:last-child)::after {content: \"\\00b7\"; padding: 0 .5ex}\n",
       "</style>\n",
       "<ol class=list-inline><li>100</li><li>99.5723786019312</li><li>99.6184810039268</li><li>98.8207125139699</li><li>98.2390324918668</li></ol>\n"
      ],
      "text/latex": [
       "\\begin{enumerate*}\n",
       "\\item 100\n",
       "\\item 99.5723786019312\n",
       "\\item 99.6184810039268\n",
       "\\item 98.8207125139699\n",
       "\\item 98.2390324918668\n",
       "\\end{enumerate*}\n"
      ],
      "text/markdown": [
       "1. 100\n",
       "2. 99.5723786019312\n",
       "3. 99.6184810039268\n",
       "4. 98.8207125139699\n",
       "5. 98.2390324918668\n",
       "\n",
       "\n"
      ],
      "text/plain": [
       "[1] 100.00000  99.57238  99.61848  98.82071  98.23903"
      ]
     },
     "metadata": {},
     "output_type": "display_data"
    }
   ],
   "source": [
    "N = 100\n",
    "S_0 = 100\n",
    "r = 0\n",
    "delta_t = 1/252\n",
    "sigma = .10\n",
    "\n",
    "STOCK_PATH = GBM(N, S_0, r, delta_t, sigma)\n",
    "STOCK_PATH[1:5]\n"
   ]
  },
  {
   "cell_type": "markdown",
   "id": "3fe748c3",
   "metadata": {},
   "source": [
    "### Step 2: Calculate Delta for Every Stock Price"
   ]
  },
  {
   "cell_type": "code",
   "execution_count": 51,
   "id": "bba6a893",
   "metadata": {},
   "outputs": [
    {
     "data": {
      "text/html": [
       "<table class=\"dataframe\">\n",
       "<caption>A matrix: 8 × 1 of type dbl</caption>\n",
       "<thead>\n",
       "\t<tr><th></th><th scope=col>bsput</th></tr>\n",
       "</thead>\n",
       "<tbody>\n",
       "\t<tr><th scope=row>Premium</th><td>  5.49208905</td></tr>\n",
       "\t<tr><th scope=row>Delta</th><td> -0.82038625</td></tr>\n",
       "\t<tr><th scope=row>Gamma</th><td>  0.05063207</td></tr>\n",
       "\t<tr><th scope=row>Vega</th><td>  0.09041451</td></tr>\n",
       "\t<tr><th scope=row>Rho</th><td> -0.10420323</td></tr>\n",
       "\t<tr><th scope=row>Theta</th><td> -0.01560579</td></tr>\n",
       "\t<tr><th scope=row>Psi</th><td>  0.09766503</td></tr>\n",
       "\t<tr><th scope=row>Elasticity</th><td>-14.93759921</td></tr>\n",
       "</tbody>\n",
       "</table>\n"
      ],
      "text/latex": [
       "A matrix: 8 × 1 of type dbl\n",
       "\\begin{tabular}{r|l}\n",
       "  & bsput\\\\\n",
       "\\hline\n",
       "\tPremium &   5.49208905\\\\\n",
       "\tDelta &  -0.82038625\\\\\n",
       "\tGamma &   0.05063207\\\\\n",
       "\tVega &   0.09041451\\\\\n",
       "\tRho &  -0.10420323\\\\\n",
       "\tTheta &  -0.01560579\\\\\n",
       "\tPsi &   0.09766503\\\\\n",
       "\tElasticity & -14.93759921\\\\\n",
       "\\end{tabular}\n"
      ],
      "text/markdown": [
       "\n",
       "A matrix: 8 × 1 of type dbl\n",
       "\n",
       "| <!--/--> | bsput |\n",
       "|---|---|\n",
       "| Premium |   5.49208905 |\n",
       "| Delta |  -0.82038625 |\n",
       "| Gamma |   0.05063207 |\n",
       "| Vega |   0.09041451 |\n",
       "| Rho |  -0.10420323 |\n",
       "| Theta |  -0.01560579 |\n",
       "| Psi |   0.09766503 |\n",
       "| Elasticity | -14.93759921 |\n",
       "\n"
      ],
      "text/plain": [
       "           bsput       \n",
       "Premium      5.49208905\n",
       "Delta       -0.82038625\n",
       "Gamma        0.05063207\n",
       "Vega         0.09041451\n",
       "Rho         -0.10420323\n",
       "Theta       -0.01560579\n",
       "Psi          0.09766503\n",
       "Elasticity -14.93759921"
      ]
     },
     "metadata": {},
     "output_type": "display_data"
    }
   ],
   "source": [
    "S = 100\n",
    "K = 105\n",
    "v = .15\n",
    "r = 0\n",
    "tt = 30/252\n",
    "sigma = .10\n",
    "d = 0\n",
    "\n",
    "greeks(bsput(S, K, v, r, tt, d))"
   ]
  },
  {
   "cell_type": "code",
   "execution_count": 52,
   "id": "10999f30",
   "metadata": {},
   "outputs": [
    {
     "data": {
      "text/html": [
       "-0.820386251376704"
      ],
      "text/latex": [
       "-0.820386251376704"
      ],
      "text/markdown": [
       "-0.820386251376704"
      ],
      "text/plain": [
       "[1] -0.8203863"
      ]
     },
     "metadata": {},
     "output_type": "display_data"
    }
   ],
   "source": [
    "delta = greeks(bsput(S, K, v, r, tt, d))\n",
    "delta = as.numeric(delta[2,1])\n",
    "delta"
   ]
  },
  {
   "cell_type": "markdown",
   "id": "e7e7f479",
   "metadata": {},
   "source": [
    "### Step 3: How many Shares to Purchase? \n",
    "\n"
   ]
  },
  {
   "cell_type": "code",
   "execution_count": null,
   "id": "a436c686",
   "metadata": {},
   "outputs": [],
   "source": []
  },
  {
   "cell_type": "markdown",
   "id": "9a3b5c1e",
   "metadata": {},
   "source": [
    "### Step 4: What is the total cost? \n",
    "\n"
   ]
  },
  {
   "cell_type": "code",
   "execution_count": null,
   "id": "a8dfc15e",
   "metadata": {},
   "outputs": [],
   "source": []
  },
  {
   "cell_type": "code",
   "execution_count": null,
   "id": "f19ae875",
   "metadata": {},
   "outputs": [],
   "source": []
  },
  {
   "cell_type": "markdown",
   "id": "748186e4",
   "metadata": {},
   "source": [
    "### Step 5: What is the cumulative cost? "
   ]
  },
  {
   "cell_type": "code",
   "execution_count": null,
   "id": "b5291d07",
   "metadata": {},
   "outputs": [],
   "source": [
    "numbers = c(1,1,2)\n",
    "\n",
    "# This function can take the cumulative sum\n",
    "cumsum(numbers)"
   ]
  }
 ],
 "metadata": {
  "kernelspec": {
   "display_name": "R 3.3",
   "language": "R",
   "name": "ir33"
  },
  "language_info": {
   "codemirror_mode": "r",
   "file_extension": ".r",
   "mimetype": "text/x-r-source",
   "name": "R",
   "pygments_lexer": "r",
   "version": "3.6.1"
  }
 },
 "nbformat": 4,
 "nbformat_minor": 5
}
