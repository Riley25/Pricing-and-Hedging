{
 "cells": [
  {
   "cell_type": "markdown",
   "id": "a30be200",
   "metadata": {},
   "source": [
    "## Hedge Example"
   ]
  },
  {
   "cell_type": "code",
   "execution_count": 3,
   "id": "3233e67e",
   "metadata": {},
   "outputs": [
    {
     "name": "stderr",
     "output_type": "stream",
     "text": [
      "Warning message:\n",
      "“package ‘moments’ was built under R version 3.6.3”"
     ]
    }
   ],
   "source": [
    "suppressMessages(library('dplyr'))\n",
    "suppressMessages(library('quantmod'))\n",
    "suppressMessages(library('repr'))\n",
    "suppressMessages(library('xlsx'))\n",
    "suppressMessages(library('derivmkts'))\n",
    "suppressMessages(library('ggplot2'))\n",
    "suppressMessages(library('moments'))\n",
    "suppressMessages(library('bizdays'))\n",
    "suppressMessages(library('lubridate'))\n",
    "# This changes the size of plots\n",
    "options(repr.plot.width = 5, repr.plot.height =4.5)"
   ]
  },
  {
   "cell_type": "code",
   "execution_count": 4,
   "id": "b91b3178",
   "metadata": {},
   "outputs": [
    {
     "data": {
      "text/html": [
       "'aaa'"
      ],
      "text/latex": [
       "'aaa'"
      ],
      "text/markdown": [
       "'aaa'"
      ],
      "text/plain": [
       "[1] \"aaa\""
      ]
     },
     "metadata": {},
     "output_type": "display_data"
    }
   ],
   "source": [
    "letters = letters\n",
    "\n",
    "make_letters = function(){\n",
    "  new_letters = NULL\n",
    "  count  = 0\n",
    "  for (i in 1:26) {\n",
    "    for(j in 1:26){\n",
    "      for(k in 1:26){\n",
    "        count = count + 1\n",
    "        new_letters[count] = paste(c(letters[i],letters[j], letters[k]),collapse = '')\n",
    "    }\n",
    "   }\n",
    "  }\n",
    "  return(new_letters)\n",
    "}\n",
    "many_letters = make_letters()\n",
    "many_letters[1]"
   ]
  },
  {
   "cell_type": "markdown",
   "id": "09ea5b55",
   "metadata": {},
   "source": [
    "---\n",
    "\n",
    "### GBM function below"
   ]
  },
  {
   "cell_type": "code",
   "execution_count": 5,
   "id": "248f5173",
   "metadata": {},
   "outputs": [
    {
     "data": {
      "text/html": [
       "<style>\n",
       ".list-inline {list-style: none; margin:0; padding: 0}\n",
       ".list-inline>li {display: inline-block}\n",
       ".list-inline>li:not(:last-child)::after {content: \"\\00b7\"; padding: 0 .5ex}\n",
       "</style>\n",
       "<ol class=list-inline><li>100</li><li>98.6540202675977</li><li>97.8467821889801</li><li>98.6848104696295</li><li>98.4310533415661</li><li>98.6057007551814</li><li>98.1902040600552</li><li>99.4298819492899</li><li>99.2119661301824</li><li>98.0321697428122</li></ol>\n"
      ],
      "text/latex": [
       "\\begin{enumerate*}\n",
       "\\item 100\n",
       "\\item 98.6540202675977\n",
       "\\item 97.8467821889801\n",
       "\\item 98.6848104696295\n",
       "\\item 98.4310533415661\n",
       "\\item 98.6057007551814\n",
       "\\item 98.1902040600552\n",
       "\\item 99.4298819492899\n",
       "\\item 99.2119661301824\n",
       "\\item 98.0321697428122\n",
       "\\end{enumerate*}\n"
      ],
      "text/markdown": [
       "1. 100\n",
       "2. 98.6540202675977\n",
       "3. 97.8467821889801\n",
       "4. 98.6848104696295\n",
       "5. 98.4310533415661\n",
       "6. 98.6057007551814\n",
       "7. 98.1902040600552\n",
       "8. 99.4298819492899\n",
       "9. 99.2119661301824\n",
       "10. 98.0321697428122\n",
       "\n",
       "\n"
      ],
      "text/plain": [
       " [1] 100.00000  98.65402  97.84678  98.68481  98.43105  98.60570  98.19020\n",
       " [8]  99.42988  99.21197  98.03217"
      ]
     },
     "metadata": {},
     "output_type": "display_data"
    }
   ],
   "source": [
    "S_0 = 100\n",
    "r = 0\n",
    "delta_t = 1/252\n",
    "sigma = .10\n",
    "\n",
    "GBM = function(N, S_0, r, delta_t, sigma ){\n",
    "    Y = NULL\n",
    "    Y[1] = S_0\n",
    "    \n",
    "    for(i in 2:N){\n",
    "        previous_price = Y[i-1]\n",
    "        random_number = rnorm(1, mean = 0, sd = 1)\n",
    "        Y[i] = previous_price * exp( (sigma)*random_number *sqrt(delta_t) + (r - (sigma^2)* .5 * delta_t))\n",
    "    }\n",
    "    return(Y)\n",
    "}\n",
    "\n",
    "GBM(10, S_0,r, delta_t,sigma)"
   ]
  },
  {
   "cell_type": "markdown",
   "id": "bc0bb596",
   "metadata": {},
   "source": [
    "### Fancy animation here"
   ]
  },
  {
   "cell_type": "code",
   "execution_count": 6,
   "id": "819cd424",
   "metadata": {},
   "outputs": [
    {
     "data": {
      "text/html": [
       "<table class=\"dataframe\">\n",
       "<caption>A data.frame: 3 × 3</caption>\n",
       "<thead>\n",
       "\t<tr><th></th><th scope=col>X</th><th scope=col>Y</th><th scope=col>series</th></tr>\n",
       "\t<tr><th></th><th scope=col>&lt;dbl&gt;</th><th scope=col>&lt;dbl&gt;</th><th scope=col>&lt;fct&gt;</th></tr>\n",
       "</thead>\n",
       "<tbody>\n",
       "\t<tr><th scope=row>1</th><td>1</td><td>100.00000</td><td>a</td></tr>\n",
       "\t<tr><th scope=row>2</th><td>2</td><td>100.44537</td><td>a</td></tr>\n",
       "\t<tr><th scope=row>3</th><td>3</td><td> 99.68332</td><td>a</td></tr>\n",
       "</tbody>\n",
       "</table>\n"
      ],
      "text/latex": [
       "A data.frame: 3 × 3\n",
       "\\begin{tabular}{r|lll}\n",
       "  & X & Y & series\\\\\n",
       "  & <dbl> & <dbl> & <fct>\\\\\n",
       "\\hline\n",
       "\t1 & 1 & 100.00000 & a\\\\\n",
       "\t2 & 2 & 100.44537 & a\\\\\n",
       "\t3 & 3 &  99.68332 & a\\\\\n",
       "\\end{tabular}\n"
      ],
      "text/markdown": [
       "\n",
       "A data.frame: 3 × 3\n",
       "\n",
       "| <!--/--> | X &lt;dbl&gt; | Y &lt;dbl&gt; | series &lt;fct&gt; |\n",
       "|---|---|---|---|\n",
       "| 1 | 1 | 100.00000 | a |\n",
       "| 2 | 2 | 100.44537 | a |\n",
       "| 3 | 3 |  99.68332 | a |\n",
       "\n"
      ],
      "text/plain": [
       "  X Y         series\n",
       "1 1 100.00000 a     \n",
       "2 2 100.44537 a     \n",
       "3 3  99.68332 a     "
      ]
     },
     "metadata": {},
     "output_type": "display_data"
    }
   ],
   "source": [
    "n_time = 150\n",
    "n_lines = 10\n",
    "\n",
    "for(i in 1:n_lines){\n",
    "    X = seq(1, n_time, 1)\n",
    "    Y = GBM(n_time, S_0, r, delta_t, sigma)\n",
    "    \n",
    "    series = rep(letters[i], n_time)\n",
    "    \n",
    "    if(i == 1){\n",
    "        df = data.frame(X, Y, series)\n",
    "    }\n",
    "    else{\n",
    "        new_df = data.frame(X, Y, series)\n",
    "        df = rbind(df, new_df)\n",
    "    }\n",
    "}\n",
    "\n",
    "df[1:3, ]"
   ]
  },
  {
   "cell_type": "code",
   "execution_count": 7,
   "id": "0049c824",
   "metadata": {},
   "outputs": [
    {
     "name": "stdout",
     "output_type": "stream",
     "text": [
      "[1] \"aac.png, i = 3\"\n",
      "[1] \"aad.png, i = 4\"\n",
      "[1] \"aae.png, i = 5\"\n",
      "[1] \"aaf.png, i = 6\"\n",
      "[1] \"aag.png, i = 7\"\n",
      "[1] \"aah.png, i = 8\"\n",
      "[1] \"aai.png, i = 9\"\n",
      "[1] \"aaj.png, i = 10\"\n",
      "[1] \"aak.png, i = 11\"\n",
      "[1] \"aal.png, i = 12\"\n",
      "[1] \"aam.png, i = 13\"\n",
      "[1] \"aan.png, i = 14\"\n",
      "[1] \"aao.png, i = 15\"\n",
      "[1] \"aap.png, i = 16\"\n",
      "[1] \"aaq.png, i = 17\"\n",
      "[1] \"aar.png, i = 18\"\n",
      "[1] \"aas.png, i = 19\"\n",
      "[1] \"aat.png, i = 20\"\n",
      "[1] \"aau.png, i = 21\"\n",
      "[1] \"aav.png, i = 22\"\n",
      "[1] \"aaw.png, i = 23\"\n",
      "[1] \"aax.png, i = 24\"\n",
      "[1] \"aay.png, i = 25\"\n",
      "[1] \"aaz.png, i = 26\"\n",
      "[1] \"aba.png, i = 27\"\n",
      "[1] \"abb.png, i = 28\"\n",
      "[1] \"abc.png, i = 29\"\n",
      "[1] \"abd.png, i = 30\"\n",
      "[1] \"abe.png, i = 31\"\n",
      "[1] \"abf.png, i = 32\"\n",
      "[1] \"abg.png, i = 33\"\n",
      "[1] \"abh.png, i = 34\"\n",
      "[1] \"abi.png, i = 35\"\n",
      "[1] \"abj.png, i = 36\"\n",
      "[1] \"abk.png, i = 37\"\n",
      "[1] \"abl.png, i = 38\"\n",
      "[1] \"abm.png, i = 39\"\n",
      "[1] \"abn.png, i = 40\"\n",
      "[1] \"abo.png, i = 41\"\n",
      "[1] \"abp.png, i = 42\"\n",
      "[1] \"abq.png, i = 43\"\n",
      "[1] \"abr.png, i = 44\"\n",
      "[1] \"abs.png, i = 45\"\n",
      "[1] \"abt.png, i = 46\"\n",
      "[1] \"abu.png, i = 47\"\n",
      "[1] \"abv.png, i = 48\"\n",
      "[1] \"abw.png, i = 49\"\n",
      "[1] \"abx.png, i = 50\"\n",
      "[1] \"aby.png, i = 51\"\n",
      "[1] \"abz.png, i = 52\"\n",
      "[1] \"aca.png, i = 53\"\n",
      "[1] \"acb.png, i = 54\"\n",
      "[1] \"acc.png, i = 55\"\n",
      "[1] \"acd.png, i = 56\"\n",
      "[1] \"ace.png, i = 57\"\n",
      "[1] \"acf.png, i = 58\"\n",
      "[1] \"acg.png, i = 59\"\n",
      "[1] \"ach.png, i = 60\"\n",
      "[1] \"aci.png, i = 61\"\n",
      "[1] \"acj.png, i = 62\"\n",
      "[1] \"ack.png, i = 63\"\n",
      "[1] \"acl.png, i = 64\"\n",
      "[1] \"acm.png, i = 65\"\n",
      "[1] \"acn.png, i = 66\"\n",
      "[1] \"aco.png, i = 67\"\n",
      "[1] \"acp.png, i = 68\"\n",
      "[1] \"acq.png, i = 69\"\n",
      "[1] \"acr.png, i = 70\"\n",
      "[1] \"acs.png, i = 71\"\n",
      "[1] \"act.png, i = 72\"\n",
      "[1] \"acu.png, i = 73\"\n",
      "[1] \"acv.png, i = 74\"\n",
      "[1] \"acw.png, i = 75\"\n",
      "[1] \"acx.png, i = 76\"\n",
      "[1] \"acy.png, i = 77\"\n",
      "[1] \"acz.png, i = 78\"\n",
      "[1] \"ada.png, i = 79\"\n",
      "[1] \"adb.png, i = 80\"\n",
      "[1] \"adc.png, i = 81\"\n",
      "[1] \"add.png, i = 82\"\n",
      "[1] \"ade.png, i = 83\"\n",
      "[1] \"adf.png, i = 84\"\n",
      "[1] \"adg.png, i = 85\"\n",
      "[1] \"adh.png, i = 86\"\n",
      "[1] \"adi.png, i = 87\"\n",
      "[1] \"adj.png, i = 88\"\n",
      "[1] \"adk.png, i = 89\"\n",
      "[1] \"adl.png, i = 90\"\n",
      "[1] \"adm.png, i = 91\"\n",
      "[1] \"adn.png, i = 92\"\n",
      "[1] \"ado.png, i = 93\"\n",
      "[1] \"adp.png, i = 94\"\n",
      "[1] \"adq.png, i = 95\"\n",
      "[1] \"adr.png, i = 96\"\n",
      "[1] \"ads.png, i = 97\"\n",
      "[1] \"adt.png, i = 98\"\n",
      "[1] \"adu.png, i = 99\"\n",
      "[1] \"adv.png, i = 100\"\n",
      "[1] \"adw.png, i = 101\"\n",
      "[1] \"adx.png, i = 102\"\n",
      "[1] \"ady.png, i = 103\"\n",
      "[1] \"adz.png, i = 104\"\n",
      "[1] \"aea.png, i = 105\"\n",
      "[1] \"aeb.png, i = 106\"\n",
      "[1] \"aec.png, i = 107\"\n",
      "[1] \"aed.png, i = 108\"\n",
      "[1] \"aee.png, i = 109\"\n",
      "[1] \"aef.png, i = 110\"\n",
      "[1] \"aeg.png, i = 111\"\n",
      "[1] \"aeh.png, i = 112\"\n",
      "[1] \"aei.png, i = 113\"\n",
      "[1] \"aej.png, i = 114\"\n",
      "[1] \"aek.png, i = 115\"\n",
      "[1] \"ael.png, i = 116\"\n",
      "[1] \"aem.png, i = 117\"\n",
      "[1] \"aen.png, i = 118\"\n",
      "[1] \"aeo.png, i = 119\"\n",
      "[1] \"aep.png, i = 120\"\n",
      "[1] \"aeq.png, i = 121\"\n",
      "[1] \"aer.png, i = 122\"\n",
      "[1] \"aes.png, i = 123\"\n",
      "[1] \"aet.png, i = 124\"\n",
      "[1] \"aeu.png, i = 125\"\n",
      "[1] \"aev.png, i = 126\"\n",
      "[1] \"aew.png, i = 127\"\n",
      "[1] \"aex.png, i = 128\"\n",
      "[1] \"aey.png, i = 129\"\n",
      "[1] \"aez.png, i = 130\"\n",
      "[1] \"afa.png, i = 131\"\n",
      "[1] \"afb.png, i = 132\"\n",
      "[1] \"afc.png, i = 133\"\n",
      "[1] \"afd.png, i = 134\"\n",
      "[1] \"afe.png, i = 135\"\n",
      "[1] \"aff.png, i = 136\"\n",
      "[1] \"afg.png, i = 137\"\n",
      "[1] \"afh.png, i = 138\"\n",
      "[1] \"afi.png, i = 139\"\n",
      "[1] \"afj.png, i = 140\"\n",
      "[1] \"afk.png, i = 141\"\n",
      "[1] \"afl.png, i = 142\"\n",
      "[1] \"afm.png, i = 143\"\n",
      "[1] \"afn.png, i = 144\"\n",
      "[1] \"afo.png, i = 145\"\n",
      "[1] \"afp.png, i = 146\"\n",
      "[1] \"afq.png, i = 147\"\n",
      "[1] \"afr.png, i = 148\"\n",
      "[1] \"afs.png, i = 149\"\n",
      "[1] \"aft.png, i = 150\"\n"
     ]
    }
   ],
   "source": [
    "setwd('/home/jupyter-riley/FE-620/R/Plots/GBM')\n",
    "\n",
    "y_max = max(df$Y) * 1.05\n",
    "y_min = min(df$Y) * .98 \n",
    "\n",
    "for(i in 3:n_time){\n",
    "    sub_df = df %>% \n",
    "                filter(X < i)\n",
    "\n",
    "    plot_1 <- ggplot(sub_df) +\n",
    "        geom_line(aes(x = X, y = Y, colour = series), size = .41)+\n",
    "        labs(\n",
    "        title = \"Geometric Brownian Motion\",\n",
    "        x = \"Time\",\n",
    "        y = \"Stock Value\") +\n",
    "        xlim(0, n_time) + \n",
    "        ylim(y_min, y_max) + \n",
    "        theme_linedraw() + \n",
    "        theme(legend.position = \"none\")\n",
    "    \n",
    "    file_name = paste(c(many_letters[i], \".png\"), collapse = '')\n",
    "    print(paste(c(file_name, \", i = \", i), collapse = ''))\n",
    "    ggsave(file_name, device = 'png', height = 5, width = 4.5)\n",
    "}\n",
    "\n",
    "setwd('/home/jupyter-riley/FE-620/R')"
   ]
  },
  {
   "cell_type": "code",
   "execution_count": 8,
   "id": "39cff410",
   "metadata": {},
   "outputs": [
    {
     "name": "stdout",
     "output_type": "stream",
     "text": [
      "Failed to add frame 0\n",
      "\r",
      "Frame 1 (0%)\r",
      "Frame 2 (1%)\r",
      "Frame 3 (2%)\r",
      "Frame 4 (2%)\r",
      "Frame 5 (3%)\r",
      "Frame 6 (4%)\r",
      "Frame 7 (4%)\r",
      "Frame 8 (5%)\r",
      "Frame 9 (6%)\r",
      "Frame 10 (6%)\r",
      "Frame 11 (7%)\r",
      "Frame 12 (8%)\r",
      "Frame 13 (8%)\r",
      "Frame 14 (9%)\r",
      "Frame 15 (10%)\r",
      "Frame 16 (10%)\r",
      "Frame 17 (11%)\r",
      "Frame 18 (12%)\r",
      "Frame 19 (12%)\r",
      "Frame 20 (13%)\r",
      "Frame 21 (14%)\r",
      "Frame 22 (14%)\r",
      "Frame 23 (15%)\r",
      "Frame 24 (16%)\r",
      "Frame 25 (16%)\r",
      "Frame 26 (17%)\r",
      "Frame 27 (18%)\r",
      "Frame 28 (18%)\r",
      "Frame 29 (19%)\r",
      "Frame 30 (20%)\r",
      "Frame 31 (20%)\r",
      "Frame 32 (21%)\r",
      "Frame 33 (22%)\r",
      "Frame 34 (22%)\r",
      "Frame 35 (23%)\r",
      "Frame 36 (24%)\r",
      "Frame 37 (24%)\r",
      "Frame 38 (25%)\r",
      "Frame 39 (26%)\r",
      "Frame 40 (26%)\r",
      "Frame 41 (27%)\r",
      "Frame 42 (28%)\r",
      "Frame 43 (28%)\r",
      "Frame 44 (29%)\r",
      "Frame 45 (30%)\r",
      "Frame 46 (30%)\r",
      "Frame 47 (31%)\r",
      "Frame 48 (32%)\r",
      "Frame 49 (32%)\r",
      "Frame 50 (33%)\r",
      "Frame 51 (34%)\r",
      "Frame 52 (34%)\r",
      "Frame 53 (35%)\r",
      "Frame 54 (36%)\r",
      "Frame 55 (36%)\r",
      "Frame 56 (37%)\r",
      "Frame 57 (38%)\r",
      "Frame 58 (38%)\r",
      "Frame 59 (39%)\r",
      "Frame 60 (40%)\r",
      "Frame 61 (40%)\r",
      "Frame 62 (41%)\r",
      "Frame 63 (42%)\r",
      "Frame 64 (42%)\r",
      "Frame 65 (43%)\r",
      "Frame 66 (44%)\r",
      "Frame 67 (44%)\r",
      "Frame 68 (45%)\r",
      "Frame 69 (46%)\r",
      "Frame 70 (46%)\r",
      "Frame 71 (47%)\r",
      "Frame 72 (48%)\r",
      "Frame 73 (48%)\r",
      "Frame 74 (49%)\r",
      "Frame 75 (50%)\r",
      "Frame 76 (51%)\r",
      "Frame 77 (51%)\r",
      "Frame 78 (52%)\r",
      "Frame 79 (53%)\r",
      "Frame 80 (53%)\r",
      "Frame 81 (54%)\r",
      "Frame 82 (55%)\r",
      "Frame 83 (55%)\r",
      "Frame 84 (56%)\r",
      "Frame 85 (57%)\r",
      "Frame 86 (57%)\r",
      "Frame 87 (58%)\r",
      "Frame 88 (59%)\r",
      "Frame 89 (59%)\r",
      "Frame 90 (60%)\r",
      "Frame 91 (61%)\r",
      "Frame 92 (61%)\r",
      "Frame 93 (62%)\r",
      "Frame 94 (63%)\r",
      "Frame 95 (63%)\r",
      "Frame 96 (64%)\r",
      "Frame 97 (65%)\r",
      "Frame 98 (65%)\r",
      "Frame 99 (66%)\r",
      "Frame 100 (67%)\r",
      "Frame 101 (67%)\r",
      "Frame 102 (68%)\r",
      "Frame 103 (69%)\r",
      "Frame 104 (69%)\r",
      "Frame 105 (70%)\r",
      "Frame 106 (71%)\r",
      "Frame 107 (71%)\r",
      "Frame 108 (72%)\r",
      "Frame 109 (73%)\r",
      "Frame 110 (73%)\r",
      "Frame 111 (74%)\r",
      "Frame 112 (75%)\r",
      "Frame 113 (75%)\r",
      "Frame 114 (76%)\r",
      "Frame 115 (77%)\r",
      "Frame 116 (77%)\r",
      "Frame 117 (78%)\r",
      "Frame 118 (79%)\r",
      "Frame 119 (79%)\r",
      "Frame 120 (80%)\r",
      "Frame 121 (81%)\r",
      "Frame 122 (81%)\r",
      "Frame 123 (82%)\r",
      "Frame 124 (83%)\r",
      "Frame 125 (83%)\r",
      "Frame 126 (84%)\r",
      "Frame 127 (85%)\r",
      "Frame 128 (85%)\r",
      "Frame 129 (86%)\r",
      "Frame 130 (87%)\r",
      "Frame 131 (87%)\r",
      "Frame 132 (88%)\r",
      "Frame 133 (89%)\r",
      "Frame 134 (89%)\r",
      "Frame 135 (90%)\r",
      "Frame 136 (91%)\r",
      "Frame 137 (91%)\r",
      "Frame 138 (92%)\r",
      "Frame 139 (93%)\r",
      "Frame 140 (93%)\r",
      "Frame 141 (94%)\r",
      "Frame 142 (95%)\r",
      "Frame 143 (95%)\r",
      "Frame 144 (96%)\r",
      "Frame 145 (97%)\r",
      "Frame 146 (97%)\r",
      "Frame 147 (98%)\r",
      "Frame 148 (99%)\r",
      "Frame 149 (100%)\n",
      "Finalizing encoding... done!\n"
     ]
    },
    {
     "data": {
      "text/html": [
       "'/home/jupyter-riley/FE-620/R/Plots/GBM/aaaa_GBM.gif'"
      ],
      "text/latex": [
       "'/home/jupyter-riley/FE-620/R/Plots/GBM/aaaa\\_GBM.gif'"
      ],
      "text/markdown": [
       "'/home/jupyter-riley/FE-620/R/Plots/GBM/aaaa_GBM.gif'"
      ],
      "text/plain": [
       "[1] \"/home/jupyter-riley/FE-620/R/Plots/GBM/aaaa_GBM.gif\""
      ]
     },
     "metadata": {},
     "output_type": "display_data"
    }
   ],
   "source": [
    "setwd('/home/jupyter-riley/FE-620/R/Plots/GBM')\n",
    "\n",
    "png_files <- list.files( full.names = TRUE)\n",
    "png_files = sort(png_files, decreasing=FALSE)\n",
    "\n",
    "gifski::gifski(png_files, gif_file = \"aaaa_GBM.gif\", width = 800, \n",
    "               height = 800, delay = .03, loop = FALSE, progress = TRUE)\n",
    "\n",
    "setwd('/home/jupyter-riley/FE-620/R')"
   ]
  },
  {
   "cell_type": "markdown",
   "id": "990a4355",
   "metadata": {},
   "source": [
    "---\n",
    "\n",
    "### The actual work begins here \n",
    "\n",
    "| Stock Price | Delta | Shares to Purchase          |  Total Cost $$S X \\Delta $$   | Cumulative Cost | Total Shares Owned |\n",
    "| :---        | :---- | :---                        | :---                          |:---             |:---             |\n",
    "|  100        |  .8   |  $$Delta_{1}$$              | $$TC_{1}$$                    | $$CC_{1}$$      |? |\n",
    "|  105        |  .6   |  $$Delta_{2} - Delta_{1}$$  | $$TC_{2}$$                    | $$CC_{1}$$      |? |\n",
    "\n",
    "\n",
    "\n",
    "\n",
    "### Step 1 Generate a single Stock Path\n",
    "\n"
   ]
  },
  {
   "cell_type": "code",
   "execution_count": 9,
   "id": "4628ac43",
   "metadata": {},
   "outputs": [
    {
     "data": {
      "text/html": [
       "<style>\n",
       ".list-inline {list-style: none; margin:0; padding: 0}\n",
       ".list-inline>li {display: inline-block}\n",
       ".list-inline>li:not(:last-child)::after {content: \"\\00b7\"; padding: 0 .5ex}\n",
       "</style>\n",
       "<ol class=list-inline><li>100</li><li>100.456511246327</li><li>99.697634190416</li><li>99.4327758010403</li><li>97.9224771161087</li></ol>\n"
      ],
      "text/latex": [
       "\\begin{enumerate*}\n",
       "\\item 100\n",
       "\\item 100.456511246327\n",
       "\\item 99.697634190416\n",
       "\\item 99.4327758010403\n",
       "\\item 97.9224771161087\n",
       "\\end{enumerate*}\n"
      ],
      "text/markdown": [
       "1. 100\n",
       "2. 100.456511246327\n",
       "3. 99.697634190416\n",
       "4. 99.4327758010403\n",
       "5. 97.9224771161087\n",
       "\n",
       "\n"
      ],
      "text/plain": [
       "[1] 100.00000 100.45651  99.69763  99.43278  97.92248"
      ]
     },
     "metadata": {},
     "output_type": "display_data"
    }
   ],
   "source": [
    "N = 100\n",
    "S_0 = 100\n",
    "r = 0\n",
    "delta_t = 1/252\n",
    "sigma = .10\n",
    "\n",
    "STOCK_PATH = GBM(N, S_0, r, delta_t, sigma)\n",
    "STOCK_PATH[1:5]\n"
   ]
  },
  {
   "cell_type": "markdown",
   "id": "45993532",
   "metadata": {},
   "source": [
    "### Step 2: Calculate Delta for Every Stock Price"
   ]
  },
  {
   "cell_type": "code",
   "execution_count": 10,
   "id": "a3320a7d",
   "metadata": {},
   "outputs": [
    {
     "data": {
      "text/html": [
       "<style>\n",
       ".dl-inline {width: auto; margin:0; padding: 0}\n",
       ".dl-inline>dt, .dl-inline>dd {float: none; width: auto; display: inline-block}\n",
       ".dl-inline>dt::after {content: \":\\0020\"; padding-right: .5ex}\n",
       ".dl-inline>dt:not(:first-of-type) {padding-left: .5ex}\n",
       "</style><dl class=dl-inline><dt>delta</dt><dd>0.391872125743753</dd><dt>gamma</dt><dd>0.0273919939633255</dd><dt>theta</dt><dd>-0.0150098120777891</dd></dl>\n"
      ],
      "text/latex": [
       "\\begin{description*}\n",
       "\\item[delta] 0.391872125743753\n",
       "\\item[gamma] 0.0273919939633255\n",
       "\\item[theta] -0.0150098120777891\n",
       "\\end{description*}\n"
      ],
      "text/markdown": [
       "delta\n",
       ":   0.391872125743753gamma\n",
       ":   0.0273919939633255theta\n",
       ":   -0.0150098120777891\n",
       "\n"
      ],
      "text/plain": [
       "      delta       gamma       theta \n",
       " 0.39187213  0.02739199 -0.01500981 "
      ]
     },
     "metadata": {},
     "output_type": "display_data"
    }
   ],
   "source": [
    "s = 100\n",
    "k = 105\n",
    "r = 0\n",
    "d = 0\n",
    "v = .20\n",
    "T = .5\n",
    "\n",
    "df = derivmkts::binomopt(s,k,v,r,T,d, nstep = 50, american = TRUE, putopt = FALSE,returngreeks = TRUE, returntrees = TRUE)\n",
    "df$greeks"
   ]
  },
  {
   "cell_type": "code",
   "execution_count": 11,
   "id": "5993ccaa",
   "metadata": {},
   "outputs": [
    {
     "data": {
      "text/html": [
       "0.391872125743753"
      ],
      "text/latex": [
       "0.391872125743753"
      ],
      "text/markdown": [
       "0.391872125743753"
      ],
      "text/plain": [
       "[1] 0.3918721"
      ]
     },
     "metadata": {},
     "output_type": "display_data"
    }
   ],
   "source": [
    "as.numeric(df$greeks[1])"
   ]
  },
  {
   "cell_type": "code",
   "execution_count": 12,
   "id": "0743758e",
   "metadata": {},
   "outputs": [],
   "source": [
    "DELTA = NULL\n",
    "\n",
    "for(i in 1:N){\n",
    "    s = STOCK_PATH[i]\n",
    "    t = T - (i/252)\n",
    "    \n",
    "    df = derivmkts::binomopt(s,k,v,r,t,d, nstep = 50, american = TRUE, putopt = FALSE,returngreeks = TRUE, returntrees = TRUE)\n",
    "    delta = as.numeric(df$greeks[1])\n",
    "    #print(delta)\n",
    "    DELTA[i] = delta\n",
    "}"
   ]
  },
  {
   "cell_type": "code",
   "execution_count": 19,
   "id": "7d4da853",
   "metadata": {},
   "outputs": [
    {
     "data": {
      "text/html": [
       "<table class=\"dataframe\">\n",
       "<caption>A data.frame: 5 × 6</caption>\n",
       "<thead>\n",
       "\t<tr><th></th><th scope=col>STOCK_PATH</th><th scope=col>DELTA</th><th scope=col>n_shares</th><th scope=col>TOTAL_COST</th><th scope=col>CUMULATIVE_COST</th><th scope=col>CUMULATIVE_SHARES</th></tr>\n",
       "\t<tr><th></th><th scope=col>&lt;dbl&gt;</th><th scope=col>&lt;dbl&gt;</th><th scope=col>&lt;dbl&gt;</th><th scope=col>&lt;dbl&gt;</th><th scope=col>&lt;dbl&gt;</th><th scope=col>&lt;dbl&gt;</th></tr>\n",
       "</thead>\n",
       "<tbody>\n",
       "\t<tr><th scope=row>1</th><td>100.00000</td><td>0.3912510</td><td> 0.391251007</td><td>39.1251007</td><td>39.12510</td><td>0.3912510</td></tr>\n",
       "\t<tr><th scope=row>2</th><td>100.45651</td><td>0.4026902</td><td> 0.011439186</td><td> 1.1491408</td><td>40.27424</td><td>0.4026902</td></tr>\n",
       "\t<tr><th scope=row>3</th><td> 99.69763</td><td>0.3819016</td><td>-0.020788621</td><td>-2.0725763</td><td>38.20167</td><td>0.3819016</td></tr>\n",
       "\t<tr><th scope=row>4</th><td> 99.43278</td><td>0.3740714</td><td>-0.007830183</td><td>-0.7785769</td><td>37.42309</td><td>0.3740714</td></tr>\n",
       "\t<tr><th scope=row>5</th><td> 97.92248</td><td>0.3316441</td><td>-0.042427276</td><td>-4.1545840</td><td>33.26850</td><td>0.3316441</td></tr>\n",
       "</tbody>\n",
       "</table>\n"
      ],
      "text/latex": [
       "A data.frame: 5 × 6\n",
       "\\begin{tabular}{r|llllll}\n",
       "  & STOCK\\_PATH & DELTA & n\\_shares & TOTAL\\_COST & CUMULATIVE\\_COST & CUMULATIVE\\_SHARES\\\\\n",
       "  & <dbl> & <dbl> & <dbl> & <dbl> & <dbl> & <dbl>\\\\\n",
       "\\hline\n",
       "\t1 & 100.00000 & 0.3912510 &  0.391251007 & 39.1251007 & 39.12510 & 0.3912510\\\\\n",
       "\t2 & 100.45651 & 0.4026902 &  0.011439186 &  1.1491408 & 40.27424 & 0.4026902\\\\\n",
       "\t3 &  99.69763 & 0.3819016 & -0.020788621 & -2.0725763 & 38.20167 & 0.3819016\\\\\n",
       "\t4 &  99.43278 & 0.3740714 & -0.007830183 & -0.7785769 & 37.42309 & 0.3740714\\\\\n",
       "\t5 &  97.92248 & 0.3316441 & -0.042427276 & -4.1545840 & 33.26850 & 0.3316441\\\\\n",
       "\\end{tabular}\n"
      ],
      "text/markdown": [
       "\n",
       "A data.frame: 5 × 6\n",
       "\n",
       "| <!--/--> | STOCK_PATH &lt;dbl&gt; | DELTA &lt;dbl&gt; | n_shares &lt;dbl&gt; | TOTAL_COST &lt;dbl&gt; | CUMULATIVE_COST &lt;dbl&gt; | CUMULATIVE_SHARES &lt;dbl&gt; |\n",
       "|---|---|---|---|---|---|---|\n",
       "| 1 | 100.00000 | 0.3912510 |  0.391251007 | 39.1251007 | 39.12510 | 0.3912510 |\n",
       "| 2 | 100.45651 | 0.4026902 |  0.011439186 |  1.1491408 | 40.27424 | 0.4026902 |\n",
       "| 3 |  99.69763 | 0.3819016 | -0.020788621 | -2.0725763 | 38.20167 | 0.3819016 |\n",
       "| 4 |  99.43278 | 0.3740714 | -0.007830183 | -0.7785769 | 37.42309 | 0.3740714 |\n",
       "| 5 |  97.92248 | 0.3316441 | -0.042427276 | -4.1545840 | 33.26850 | 0.3316441 |\n",
       "\n"
      ],
      "text/plain": [
       "  STOCK_PATH DELTA     n_shares     TOTAL_COST CUMULATIVE_COST\n",
       "1 100.00000  0.3912510  0.391251007 39.1251007 39.12510       \n",
       "2 100.45651  0.4026902  0.011439186  1.1491408 40.27424       \n",
       "3  99.69763  0.3819016 -0.020788621 -2.0725763 38.20167       \n",
       "4  99.43278  0.3740714 -0.007830183 -0.7785769 37.42309       \n",
       "5  97.92248  0.3316441 -0.042427276 -4.1545840 33.26850       \n",
       "  CUMULATIVE_SHARES\n",
       "1 0.3912510        \n",
       "2 0.4026902        \n",
       "3 0.3819016        \n",
       "4 0.3740714        \n",
       "5 0.3316441        "
      ]
     },
     "metadata": {},
     "output_type": "display_data"
    }
   ],
   "source": [
    "df = data.frame(STOCK_PATH, DELTA,n_shares,TOTAL_COST,CUMULATIVE_COST,CUMULATIVE_SHARES)\n",
    "df[1:5,]"
   ]
  },
  {
   "cell_type": "markdown",
   "id": "34c13946",
   "metadata": {},
   "source": [
    "### Step 3: How many Shares to Purchase? \n",
    "\n"
   ]
  },
  {
   "cell_type": "code",
   "execution_count": 14,
   "id": "861a385d",
   "metadata": {},
   "outputs": [
    {
     "data": {
      "text/html": [
       "<style>\n",
       ".list-inline {list-style: none; margin:0; padding: 0}\n",
       ".list-inline>li {display: inline-block}\n",
       ".list-inline>li:not(:last-child)::after {content: \"\\00b7\"; padding: 0 .5ex}\n",
       "</style>\n",
       "<ol class=list-inline><li>0.391251006668811</li><li>0.0114391864965401</li><li>-0.0207886209976683</li><li>-0.00783018328040852</li><li>-0.0424272759497609</li><li>-0.00336670158203806</li><li>-0.00496466256489014</li><li>0.0126220423932271</li><li>-0.0155973503179567</li><li>0.0201525759245894</li><li>0.00365588335058936</li><li>-0.000653543030511183</li><li>0.0151976735793732</li><li>0.0221707890043988</li><li>-0.0259513989872244</li></ol>\n"
      ],
      "text/latex": [
       "\\begin{enumerate*}\n",
       "\\item 0.391251006668811\n",
       "\\item 0.0114391864965401\n",
       "\\item -0.0207886209976683\n",
       "\\item -0.00783018328040852\n",
       "\\item -0.0424272759497609\n",
       "\\item -0.00336670158203806\n",
       "\\item -0.00496466256489014\n",
       "\\item 0.0126220423932271\n",
       "\\item -0.0155973503179567\n",
       "\\item 0.0201525759245894\n",
       "\\item 0.00365588335058936\n",
       "\\item -0.000653543030511183\n",
       "\\item 0.0151976735793732\n",
       "\\item 0.0221707890043988\n",
       "\\item -0.0259513989872244\n",
       "\\end{enumerate*}\n"
      ],
      "text/markdown": [
       "1. 0.391251006668811\n",
       "2. 0.0114391864965401\n",
       "3. -0.0207886209976683\n",
       "4. -0.00783018328040852\n",
       "5. -0.0424272759497609\n",
       "6. -0.00336670158203806\n",
       "7. -0.00496466256489014\n",
       "8. 0.0126220423932271\n",
       "9. -0.0155973503179567\n",
       "10. 0.0201525759245894\n",
       "11. 0.00365588335058936\n",
       "12. -0.000653543030511183\n",
       "13. 0.0151976735793732\n",
       "14. 0.0221707890043988\n",
       "15. -0.0259513989872244\n",
       "\n",
       "\n"
      ],
      "text/plain": [
       " [1]  0.391251007  0.011439186 -0.020788621 -0.007830183 -0.042427276\n",
       " [6] -0.003366702 -0.004964663  0.012622042 -0.015597350  0.020152576\n",
       "[11]  0.003655883 -0.000653543  0.015197674  0.022170789 -0.025951399"
      ]
     },
     "metadata": {},
     "output_type": "display_data"
    }
   ],
   "source": [
    "n_shares = NULL\n",
    "for(i in 1:N){\n",
    "    if(i ==1){\n",
    "        n_shares[i] = DELTA[i]\n",
    "    }\n",
    "    else{\n",
    "        n_shares[i] = DELTA[i] - DELTA[i-1]\n",
    "    }\n",
    "}\n",
    "n_shares[1:15]"
   ]
  },
  {
   "cell_type": "markdown",
   "id": "24ce0a82",
   "metadata": {},
   "source": [
    "### Step 4: What is the total cost? \n",
    "\n"
   ]
  },
  {
   "cell_type": "code",
   "execution_count": 15,
   "id": "2241e22d",
   "metadata": {},
   "outputs": [
    {
     "data": {
      "text/html": [
       "<style>\n",
       ".list-inline {list-style: none; margin:0; padding: 0}\n",
       ".list-inline>li {display: inline-block}\n",
       ".list-inline>li:not(:last-child)::after {content: \"\\00b7\"; padding: 0 .5ex}\n",
       "</style>\n",
       "<ol class=list-inline><li>39.1251006668811</li><li>1.14914076693852</li><li>-2.07257633154873</li><li>-0.778576858601915</li><li>-4.15458395828929</li></ol>\n"
      ],
      "text/latex": [
       "\\begin{enumerate*}\n",
       "\\item 39.1251006668811\n",
       "\\item 1.14914076693852\n",
       "\\item -2.07257633154873\n",
       "\\item -0.778576858601915\n",
       "\\item -4.15458395828929\n",
       "\\end{enumerate*}\n"
      ],
      "text/markdown": [
       "1. 39.1251006668811\n",
       "2. 1.14914076693852\n",
       "3. -2.07257633154873\n",
       "4. -0.778576858601915\n",
       "5. -4.15458395828929\n",
       "\n",
       "\n"
      ],
      "text/plain": [
       "[1] 39.1251007  1.1491408 -2.0725763 -0.7785769 -4.1545840"
      ]
     },
     "metadata": {},
     "output_type": "display_data"
    }
   ],
   "source": [
    "TOTAL_COST = NULL\n",
    "for(i in 1:N){\n",
    "   TOTAL_COST[i] = n_shares[i] * STOCK_PATH[i]\n",
    "}\n",
    "TOTAL_COST[1:5]"
   ]
  },
  {
   "cell_type": "markdown",
   "id": "744f7376",
   "metadata": {},
   "source": [
    "### Step 5: What is the cumulative cost? "
   ]
  },
  {
   "cell_type": "code",
   "execution_count": 16,
   "id": "9319d32d",
   "metadata": {},
   "outputs": [
    {
     "data": {
      "text/html": [
       "<style>\n",
       ".list-inline {list-style: none; margin:0; padding: 0}\n",
       ".list-inline>li {display: inline-block}\n",
       ".list-inline>li:not(:last-child)::after {content: \"\\00b7\"; padding: 0 .5ex}\n",
       "</style>\n",
       "<ol class=list-inline><li>1</li><li>2</li><li>4</li></ol>\n"
      ],
      "text/latex": [
       "\\begin{enumerate*}\n",
       "\\item 1\n",
       "\\item 2\n",
       "\\item 4\n",
       "\\end{enumerate*}\n"
      ],
      "text/markdown": [
       "1. 1\n",
       "2. 2\n",
       "3. 4\n",
       "\n",
       "\n"
      ],
      "text/plain": [
       "[1] 1 2 4"
      ]
     },
     "metadata": {},
     "output_type": "display_data"
    }
   ],
   "source": [
    "numbers = c(1,1,2)\n",
    "\n",
    "# This function can take the cumulative sum\n",
    "cumsum(numbers)"
   ]
  },
  {
   "cell_type": "code",
   "execution_count": 17,
   "id": "9ebef85c",
   "metadata": {},
   "outputs": [
    {
     "data": {
      "text/html": [
       "<style>\n",
       ".list-inline {list-style: none; margin:0; padding: 0}\n",
       ".list-inline>li {display: inline-block}\n",
       ".list-inline>li:not(:last-child)::after {content: \"\\00b7\"; padding: 0 .5ex}\n",
       "</style>\n",
       "<ol class=list-inline><li>39.1251006668811</li><li>40.2742414338197</li><li>38.2016651022709</li><li>37.423088243669</li><li>33.2685042853797</li></ol>\n"
      ],
      "text/latex": [
       "\\begin{enumerate*}\n",
       "\\item 39.1251006668811\n",
       "\\item 40.2742414338197\n",
       "\\item 38.2016651022709\n",
       "\\item 37.423088243669\n",
       "\\item 33.2685042853797\n",
       "\\end{enumerate*}\n"
      ],
      "text/markdown": [
       "1. 39.1251006668811\n",
       "2. 40.2742414338197\n",
       "3. 38.2016651022709\n",
       "4. 37.423088243669\n",
       "5. 33.2685042853797\n",
       "\n",
       "\n"
      ],
      "text/plain": [
       "[1] 39.12510 40.27424 38.20167 37.42309 33.26850"
      ]
     },
     "metadata": {},
     "output_type": "display_data"
    }
   ],
   "source": [
    "CUMULATIVE_COST = cumsum(TOTAL_COST)\n",
    "CUMULATIVE_COST[1:5]"
   ]
  },
  {
   "cell_type": "markdown",
   "id": "da5db260",
   "metadata": {},
   "source": [
    "### Step 6: How many shares are owned? \n",
    "\n"
   ]
  },
  {
   "cell_type": "code",
   "execution_count": 18,
   "id": "9e522469",
   "metadata": {},
   "outputs": [
    {
     "data": {
      "text/html": [
       "<style>\n",
       ".list-inline {list-style: none; margin:0; padding: 0}\n",
       ".list-inline>li {display: inline-block}\n",
       ".list-inline>li:not(:last-child)::after {content: \"\\00b7\"; padding: 0 .5ex}\n",
       "</style>\n",
       "<ol class=list-inline><li>0.391251006668811</li><li>0.402690193165352</li><li>0.381901572167683</li><li>0.374071388887275</li><li>0.331644112937514</li><li>0.328277411355476</li><li>0.323312748790586</li><li>0.335934791183813</li><li>0.320337440865856</li><li>0.340490016790445</li><li>0.344145900141035</li><li>0.343492357110524</li><li>0.358690030689897</li><li>0.380860819694296</li><li>0.354909420707071</li></ol>\n"
      ],
      "text/latex": [
       "\\begin{enumerate*}\n",
       "\\item 0.391251006668811\n",
       "\\item 0.402690193165352\n",
       "\\item 0.381901572167683\n",
       "\\item 0.374071388887275\n",
       "\\item 0.331644112937514\n",
       "\\item 0.328277411355476\n",
       "\\item 0.323312748790586\n",
       "\\item 0.335934791183813\n",
       "\\item 0.320337440865856\n",
       "\\item 0.340490016790445\n",
       "\\item 0.344145900141035\n",
       "\\item 0.343492357110524\n",
       "\\item 0.358690030689897\n",
       "\\item 0.380860819694296\n",
       "\\item 0.354909420707071\n",
       "\\end{enumerate*}\n"
      ],
      "text/markdown": [
       "1. 0.391251006668811\n",
       "2. 0.402690193165352\n",
       "3. 0.381901572167683\n",
       "4. 0.374071388887275\n",
       "5. 0.331644112937514\n",
       "6. 0.328277411355476\n",
       "7. 0.323312748790586\n",
       "8. 0.335934791183813\n",
       "9. 0.320337440865856\n",
       "10. 0.340490016790445\n",
       "11. 0.344145900141035\n",
       "12. 0.343492357110524\n",
       "13. 0.358690030689897\n",
       "14. 0.380860819694296\n",
       "15. 0.354909420707071\n",
       "\n",
       "\n"
      ],
      "text/plain": [
       " [1] 0.3912510 0.4026902 0.3819016 0.3740714 0.3316441 0.3282774 0.3233127\n",
       " [8] 0.3359348 0.3203374 0.3404900 0.3441459 0.3434924 0.3586900 0.3808608\n",
       "[15] 0.3549094"
      ]
     },
     "metadata": {},
     "output_type": "display_data"
    }
   ],
   "source": [
    "\n",
    "CUMULATIVE_SHARES = cumsum(n_shares)\n",
    "CUMULATIVE_SHARES[1:15]"
   ]
  },
  {
   "cell_type": "code",
   "execution_count": null,
   "id": "61ea3426",
   "metadata": {},
   "outputs": [],
   "source": [
    "\n"
   ]
  },
  {
   "cell_type": "code",
   "execution_count": null,
   "id": "6ba2fdf3",
   "metadata": {},
   "outputs": [],
   "source": [
    "\n"
   ]
  },
  {
   "cell_type": "code",
   "execution_count": null,
   "id": "cb9e7d75",
   "metadata": {},
   "outputs": [],
   "source": [
    "\n"
   ]
  },
  {
   "cell_type": "code",
   "execution_count": null,
   "id": "0c61cead",
   "metadata": {},
   "outputs": [],
   "source": [
    "\n"
   ]
  }
 ],
 "metadata": {
  "kernelspec": {
   "display_name": "R 3.3",
   "language": "R",
   "name": "ir33"
  },
  "language_info": {
   "codemirror_mode": "r",
   "file_extension": ".r",
   "mimetype": "text/x-r-source",
   "name": "R",
   "pygments_lexer": "r",
   "version": "3.6.1"
  }
 },
 "nbformat": 4,
 "nbformat_minor": 5
}
