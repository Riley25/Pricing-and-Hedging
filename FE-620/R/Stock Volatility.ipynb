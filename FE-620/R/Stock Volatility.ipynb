{
 "cells": [
  {
   "cell_type": "code",
   "execution_count": 3,
   "id": "91e5a760",
   "metadata": {},
   "outputs": [],
   "source": [
    "suppressMessages(library('dplyr'))\n",
    "suppressMessages(library('quantmod'))\n",
    "suppressMessages(library('repr'))\n",
    "suppressMessages(library('xlsx'))\n",
    "suppressMessages(library('derivmkts'))\n",
    "suppressMessages(library('ggplot2'))\n",
    "suppressMessages(library('moments'))\n",
    "suppressMessages(library('bizdays'))\n",
    "suppressMessages(library('lubridate'))\n",
    "# This changes the size of plots\n",
    "options(repr.plot.width = 5.5, repr.plot.height =4)"
   ]
  },
  {
   "cell_type": "code",
   "execution_count": 4,
   "id": "770a16ca",
   "metadata": {},
   "outputs": [
    {
     "name": "stdout",
     "output_type": "stream",
     "text": [
      "[1] \"Total Number of Rows = 717\"\n",
      "[1] \"Total Number of Columns = 7\"\n"
     ]
    }
   ],
   "source": [
    "TSLA_OPTIONS = xlsx::read.xlsx('Data/TSLA_OPTIONS.xlsx', sheetName = \"Sheet1\")\n",
    "\n",
    "TSLA_STOCK = xlsx::read.xlsx('Data/TSLA_STOCK.xlsx', sheetName = \"Sheet1\")\n",
    "\n",
    "\n",
    "n_row = dim(TSLA_STOCK)[1]\n",
    "print(paste(c(\"Total Number of Rows = \", n_row), collapse = ''))\n",
    "\n",
    "n_col = dim(TSLA_STOCK)[2]\n",
    "print(paste(c(\"Total Number of Columns = \", n_col), collapse = ''))"
   ]
  },
  {
   "cell_type": "code",
   "execution_count": 5,
   "id": "fe79e971",
   "metadata": {},
   "outputs": [
    {
     "name": "stdout",
     "output_type": "stream",
     "text": [
      "'data.frame':\t717 obs. of  7 variables:\n",
      " $ Date         : Date, format: \"2021-11-03\" \"2021-11-02\" ...\n",
      " $ TSLA.Open    : num  1177 1159 1145 1082 1068 ...\n",
      " $ TSLA.High    : num  1215 1209 1210 1115 1081 ...\n",
      " $ TSLA.Low     : num  1153 1146 1119 1073 1054 ...\n",
      " $ TSLA.Close   : num  1214 1172 1209 1114 1077 ...\n",
      " $ TSLA.Volume  : num  34628519 42737800 56048700 29918400 27213200 ...\n",
      " $ TSLA.Adjusted: num  1214 1172 1209 1114 1077 ...\n"
     ]
    }
   ],
   "source": [
    "# convert date to \"Date\" variable\n",
    "TSLA_STOCK$Date = as.Date(TSLA_STOCK$Date, format=\"%Y-%m-%d\")\n",
    "\n",
    "# Sort the column by time\n",
    "TSLA_STOCK = TSLA_STOCK[rev(order(TSLA_STOCK$Date)),]\n",
    "str(TSLA_STOCK)"
   ]
  },
  {
   "cell_type": "code",
   "execution_count": 6,
   "id": "77add81c",
   "metadata": {},
   "outputs": [
    {
     "data": {
      "text/html": [
       "<table class=\"dataframe\">\n",
       "<caption>A data.frame: 6 × 7</caption>\n",
       "<thead>\n",
       "\t<tr><th></th><th scope=col>Date</th><th scope=col>TSLA.Open</th><th scope=col>TSLA.High</th><th scope=col>TSLA.Low</th><th scope=col>TSLA.Close</th><th scope=col>TSLA.Volume</th><th scope=col>TSLA.Adjusted</th></tr>\n",
       "\t<tr><th></th><th scope=col>&lt;date&gt;</th><th scope=col>&lt;dbl&gt;</th><th scope=col>&lt;dbl&gt;</th><th scope=col>&lt;dbl&gt;</th><th scope=col>&lt;dbl&gt;</th><th scope=col>&lt;dbl&gt;</th><th scope=col>&lt;dbl&gt;</th></tr>\n",
       "</thead>\n",
       "<tbody>\n",
       "\t<tr><th scope=row>717</th><td>2021-11-03</td><td>1177.33</td><td>1215.39</td><td>1152.68</td><td>1213.86</td><td>34628519</td><td>1213.86</td></tr>\n",
       "\t<tr><th scope=row>716</th><td>2021-11-02</td><td>1159.36</td><td>1208.59</td><td>1146.00</td><td>1172.00</td><td>42737800</td><td>1172.00</td></tr>\n",
       "\t<tr><th scope=row>715</th><td>2021-11-01</td><td>1145.00</td><td>1209.75</td><td>1118.66</td><td>1208.59</td><td>56048700</td><td>1208.59</td></tr>\n",
       "\t<tr><th scope=row>714</th><td>2021-10-29</td><td>1081.86</td><td>1115.21</td><td>1073.21</td><td>1114.00</td><td>29918400</td><td>1114.00</td></tr>\n",
       "\t<tr><th scope=row>713</th><td>2021-10-28</td><td>1068.31</td><td>1081.00</td><td>1054.20</td><td>1077.04</td><td>27213200</td><td>1077.04</td></tr>\n",
       "\t<tr><th scope=row>712</th><td>2021-10-27</td><td>1039.66</td><td>1070.88</td><td>1030.78</td><td>1037.86</td><td>38526500</td><td>1037.86</td></tr>\n",
       "</tbody>\n",
       "</table>\n"
      ],
      "text/latex": [
       "A data.frame: 6 × 7\n",
       "\\begin{tabular}{r|lllllll}\n",
       "  & Date & TSLA.Open & TSLA.High & TSLA.Low & TSLA.Close & TSLA.Volume & TSLA.Adjusted\\\\\n",
       "  & <date> & <dbl> & <dbl> & <dbl> & <dbl> & <dbl> & <dbl>\\\\\n",
       "\\hline\n",
       "\t717 & 2021-11-03 & 1177.33 & 1215.39 & 1152.68 & 1213.86 & 34628519 & 1213.86\\\\\n",
       "\t716 & 2021-11-02 & 1159.36 & 1208.59 & 1146.00 & 1172.00 & 42737800 & 1172.00\\\\\n",
       "\t715 & 2021-11-01 & 1145.00 & 1209.75 & 1118.66 & 1208.59 & 56048700 & 1208.59\\\\\n",
       "\t714 & 2021-10-29 & 1081.86 & 1115.21 & 1073.21 & 1114.00 & 29918400 & 1114.00\\\\\n",
       "\t713 & 2021-10-28 & 1068.31 & 1081.00 & 1054.20 & 1077.04 & 27213200 & 1077.04\\\\\n",
       "\t712 & 2021-10-27 & 1039.66 & 1070.88 & 1030.78 & 1037.86 & 38526500 & 1037.86\\\\\n",
       "\\end{tabular}\n"
      ],
      "text/markdown": [
       "\n",
       "A data.frame: 6 × 7\n",
       "\n",
       "| <!--/--> | Date &lt;date&gt; | TSLA.Open &lt;dbl&gt; | TSLA.High &lt;dbl&gt; | TSLA.Low &lt;dbl&gt; | TSLA.Close &lt;dbl&gt; | TSLA.Volume &lt;dbl&gt; | TSLA.Adjusted &lt;dbl&gt; |\n",
       "|---|---|---|---|---|---|---|---|\n",
       "| 717 | 2021-11-03 | 1177.33 | 1215.39 | 1152.68 | 1213.86 | 34628519 | 1213.86 |\n",
       "| 716 | 2021-11-02 | 1159.36 | 1208.59 | 1146.00 | 1172.00 | 42737800 | 1172.00 |\n",
       "| 715 | 2021-11-01 | 1145.00 | 1209.75 | 1118.66 | 1208.59 | 56048700 | 1208.59 |\n",
       "| 714 | 2021-10-29 | 1081.86 | 1115.21 | 1073.21 | 1114.00 | 29918400 | 1114.00 |\n",
       "| 713 | 2021-10-28 | 1068.31 | 1081.00 | 1054.20 | 1077.04 | 27213200 | 1077.04 |\n",
       "| 712 | 2021-10-27 | 1039.66 | 1070.88 | 1030.78 | 1037.86 | 38526500 | 1037.86 |\n",
       "\n"
      ],
      "text/plain": [
       "    Date       TSLA.Open TSLA.High TSLA.Low TSLA.Close TSLA.Volume\n",
       "717 2021-11-03 1177.33   1215.39   1152.68  1213.86    34628519   \n",
       "716 2021-11-02 1159.36   1208.59   1146.00  1172.00    42737800   \n",
       "715 2021-11-01 1145.00   1209.75   1118.66  1208.59    56048700   \n",
       "714 2021-10-29 1081.86   1115.21   1073.21  1114.00    29918400   \n",
       "713 2021-10-28 1068.31   1081.00   1054.20  1077.04    27213200   \n",
       "712 2021-10-27 1039.66   1070.88   1030.78  1037.86    38526500   \n",
       "    TSLA.Adjusted\n",
       "717 1213.86      \n",
       "716 1172.00      \n",
       "715 1208.59      \n",
       "714 1114.00      \n",
       "713 1077.04      \n",
       "712 1037.86      "
      ]
     },
     "metadata": {},
     "output_type": "display_data"
    }
   ],
   "source": [
    "head(TSLA_STOCK)"
   ]
  },
  {
   "cell_type": "code",
   "execution_count": 7,
   "id": "88ca605f",
   "metadata": {},
   "outputs": [
    {
     "data": {
      "text/html": [
       "<time datetime=\"2019-01-02\">2019-01-02</time>"
      ],
      "text/latex": [
       "2019-01-02"
      ],
      "text/markdown": [
       "2019-01-02"
      ],
      "text/plain": [
       "[1] \"2019-01-02\""
      ]
     },
     "metadata": {},
     "output_type": "display_data"
    },
    {
     "data": {
      "text/html": [
       "<time datetime=\"2021-11-03\">2021-11-03</time>"
      ],
      "text/latex": [
       "2021-11-03"
      ],
      "text/markdown": [
       "2021-11-03"
      ],
      "text/plain": [
       "[1] \"2021-11-03\""
      ]
     },
     "metadata": {},
     "output_type": "display_data"
    }
   ],
   "source": [
    "cal <-  create.calendar(name=\"mycal\", weekdays=c(\"saturday\", \"sunday\"))\n",
    "start_date = min(TSLA_STOCK$Date); start_date\n",
    "end_date = max(TSLA_STOCK$Date); end_date\n",
    "x = as.numeric(bizdays::bizdays(start_date, end_date, cal = cal))\n",
    "\n",
    "#print(paste(c(\"Total Number of Trading Days .. \", x), collapse = ''))"
   ]
  },
  {
   "cell_type": "code",
   "execution_count": 8,
   "id": "a3a662a5",
   "metadata": {},
   "outputs": [
    {
     "data": {
      "text/html": [
       "<style>\n",
       ".list-inline {list-style: none; margin:0; padding: 0}\n",
       ".list-inline>li {display: inline-block}\n",
       ".list-inline>li:not(:last-child)::after {content: \"\\00b7\"; padding: 0 .5ex}\n",
       "</style>\n",
       "<ol class=list-inline><li>'Date'</li><li>'TSLA.Open'</li><li>'TSLA.High'</li><li>'TSLA.Low'</li><li>'TSLA.Close'</li><li>'TSLA.Volume'</li><li>'TSLA.Adjusted'</li></ol>\n"
      ],
      "text/latex": [
       "\\begin{enumerate*}\n",
       "\\item 'Date'\n",
       "\\item 'TSLA.Open'\n",
       "\\item 'TSLA.High'\n",
       "\\item 'TSLA.Low'\n",
       "\\item 'TSLA.Close'\n",
       "\\item 'TSLA.Volume'\n",
       "\\item 'TSLA.Adjusted'\n",
       "\\end{enumerate*}\n"
      ],
      "text/markdown": [
       "1. 'Date'\n",
       "2. 'TSLA.Open'\n",
       "3. 'TSLA.High'\n",
       "4. 'TSLA.Low'\n",
       "5. 'TSLA.Close'\n",
       "6. 'TSLA.Volume'\n",
       "7. 'TSLA.Adjusted'\n",
       "\n",
       "\n"
      ],
      "text/plain": [
       "[1] \"Date\"          \"TSLA.Open\"     \"TSLA.High\"     \"TSLA.Low\"     \n",
       "[5] \"TSLA.Close\"    \"TSLA.Volume\"   \"TSLA.Adjusted\""
      ]
     },
     "metadata": {},
     "output_type": "display_data"
    }
   ],
   "source": [
    "colnames(TSLA_STOCK)"
   ]
  },
  {
   "cell_type": "markdown",
   "id": "ea36c879",
   "metadata": {},
   "source": [
    "### Generate a vector of log returns \n",
    "\n",
    "$$\\text{Log Returns} = \\log\\Big(\\frac{R_{i}}{R_{i-1}}\\Big)$$"
   ]
  },
  {
   "cell_type": "code",
   "execution_count": 9,
   "id": "ef60517d",
   "metadata": {},
   "outputs": [],
   "source": [
    "log_returns = NULL"
   ]
  },
  {
   "cell_type": "code",
   "execution_count": 10,
   "id": "f914b898",
   "metadata": {},
   "outputs": [
    {
     "name": "stdout",
     "output_type": "stream",
     "text": [
      "[1] 0.030556227 0.010843575 0.054049726 0.029275373 0.008138558\n"
     ]
    },
    {
     "data": {
      "text/html": [
       "<table class=\"dataframe\">\n",
       "<caption>A data.frame: 6 × 8</caption>\n",
       "<thead>\n",
       "\t<tr><th></th><th scope=col>Date</th><th scope=col>TSLA.Open</th><th scope=col>TSLA.High</th><th scope=col>TSLA.Low</th><th scope=col>TSLA.Close</th><th scope=col>TSLA.Volume</th><th scope=col>TSLA.Adjusted</th><th scope=col>log_returns</th></tr>\n",
       "\t<tr><th></th><th scope=col>&lt;date&gt;</th><th scope=col>&lt;dbl&gt;</th><th scope=col>&lt;dbl&gt;</th><th scope=col>&lt;dbl&gt;</th><th scope=col>&lt;dbl&gt;</th><th scope=col>&lt;dbl&gt;</th><th scope=col>&lt;dbl&gt;</th><th scope=col>&lt;dbl&gt;</th></tr>\n",
       "</thead>\n",
       "<tbody>\n",
       "\t<tr><th scope=row>717</th><td>2021-11-03</td><td>1177.33</td><td>1215.39</td><td>1152.68</td><td>1213.86</td><td>34628519</td><td>1213.86</td><td> 0.030556227</td></tr>\n",
       "\t<tr><th scope=row>716</th><td>2021-11-02</td><td>1159.36</td><td>1208.59</td><td>1146.00</td><td>1172.00</td><td>42737800</td><td>1172.00</td><td> 0.010843575</td></tr>\n",
       "\t<tr><th scope=row>715</th><td>2021-11-01</td><td>1145.00</td><td>1209.75</td><td>1118.66</td><td>1208.59</td><td>56048700</td><td>1208.59</td><td> 0.054049726</td></tr>\n",
       "\t<tr><th scope=row>714</th><td>2021-10-29</td><td>1081.86</td><td>1115.21</td><td>1073.21</td><td>1114.00</td><td>29918400</td><td>1114.00</td><td> 0.029275373</td></tr>\n",
       "\t<tr><th scope=row>713</th><td>2021-10-28</td><td>1068.31</td><td>1081.00</td><td>1054.20</td><td>1077.04</td><td>27213200</td><td>1077.04</td><td> 0.008138558</td></tr>\n",
       "\t<tr><th scope=row>712</th><td>2021-10-27</td><td>1039.66</td><td>1070.88</td><td>1030.78</td><td>1037.86</td><td>38526500</td><td>1037.86</td><td>-0.001732883</td></tr>\n",
       "</tbody>\n",
       "</table>\n"
      ],
      "text/latex": [
       "A data.frame: 6 × 8\n",
       "\\begin{tabular}{r|llllllll}\n",
       "  & Date & TSLA.Open & TSLA.High & TSLA.Low & TSLA.Close & TSLA.Volume & TSLA.Adjusted & log\\_returns\\\\\n",
       "  & <date> & <dbl> & <dbl> & <dbl> & <dbl> & <dbl> & <dbl> & <dbl>\\\\\n",
       "\\hline\n",
       "\t717 & 2021-11-03 & 1177.33 & 1215.39 & 1152.68 & 1213.86 & 34628519 & 1213.86 &  0.030556227\\\\\n",
       "\t716 & 2021-11-02 & 1159.36 & 1208.59 & 1146.00 & 1172.00 & 42737800 & 1172.00 &  0.010843575\\\\\n",
       "\t715 & 2021-11-01 & 1145.00 & 1209.75 & 1118.66 & 1208.59 & 56048700 & 1208.59 &  0.054049726\\\\\n",
       "\t714 & 2021-10-29 & 1081.86 & 1115.21 & 1073.21 & 1114.00 & 29918400 & 1114.00 &  0.029275373\\\\\n",
       "\t713 & 2021-10-28 & 1068.31 & 1081.00 & 1054.20 & 1077.04 & 27213200 & 1077.04 &  0.008138558\\\\\n",
       "\t712 & 2021-10-27 & 1039.66 & 1070.88 & 1030.78 & 1037.86 & 38526500 & 1037.86 & -0.001732883\\\\\n",
       "\\end{tabular}\n"
      ],
      "text/markdown": [
       "\n",
       "A data.frame: 6 × 8\n",
       "\n",
       "| <!--/--> | Date &lt;date&gt; | TSLA.Open &lt;dbl&gt; | TSLA.High &lt;dbl&gt; | TSLA.Low &lt;dbl&gt; | TSLA.Close &lt;dbl&gt; | TSLA.Volume &lt;dbl&gt; | TSLA.Adjusted &lt;dbl&gt; | log_returns &lt;dbl&gt; |\n",
       "|---|---|---|---|---|---|---|---|---|\n",
       "| 717 | 2021-11-03 | 1177.33 | 1215.39 | 1152.68 | 1213.86 | 34628519 | 1213.86 |  0.030556227 |\n",
       "| 716 | 2021-11-02 | 1159.36 | 1208.59 | 1146.00 | 1172.00 | 42737800 | 1172.00 |  0.010843575 |\n",
       "| 715 | 2021-11-01 | 1145.00 | 1209.75 | 1118.66 | 1208.59 | 56048700 | 1208.59 |  0.054049726 |\n",
       "| 714 | 2021-10-29 | 1081.86 | 1115.21 | 1073.21 | 1114.00 | 29918400 | 1114.00 |  0.029275373 |\n",
       "| 713 | 2021-10-28 | 1068.31 | 1081.00 | 1054.20 | 1077.04 | 27213200 | 1077.04 |  0.008138558 |\n",
       "| 712 | 2021-10-27 | 1039.66 | 1070.88 | 1030.78 | 1037.86 | 38526500 | 1037.86 | -0.001732883 |\n",
       "\n"
      ],
      "text/plain": [
       "    Date       TSLA.Open TSLA.High TSLA.Low TSLA.Close TSLA.Volume\n",
       "717 2021-11-03 1177.33   1215.39   1152.68  1213.86    34628519   \n",
       "716 2021-11-02 1159.36   1208.59   1146.00  1172.00    42737800   \n",
       "715 2021-11-01 1145.00   1209.75   1118.66  1208.59    56048700   \n",
       "714 2021-10-29 1081.86   1115.21   1073.21  1114.00    29918400   \n",
       "713 2021-10-28 1068.31   1081.00   1054.20  1077.04    27213200   \n",
       "712 2021-10-27 1039.66   1070.88   1030.78  1037.86    38526500   \n",
       "    TSLA.Adjusted log_returns \n",
       "717 1213.86        0.030556227\n",
       "716 1172.00        0.010843575\n",
       "715 1208.59        0.054049726\n",
       "714 1114.00        0.029275373\n",
       "713 1077.04        0.008138558\n",
       "712 1037.86       -0.001732883"
      ]
     },
     "metadata": {},
     "output_type": "display_data"
    }
   ],
   "source": [
    "for(i in 1:n_row){\n",
    "\n",
    "    log_returns[i] = log(TSLA_STOCK$TSLA.Close[i] / TSLA_STOCK$TSLA.Open[i])\n",
    "\n",
    "}\n",
    "\n",
    "print(log_returns[1:5])\n",
    "TSLA_STOCK$log_returns = log_returns\n",
    "head(TSLA_STOCK)"
   ]
  },
  {
   "cell_type": "code",
   "execution_count": 11,
   "id": "c2381dd9",
   "metadata": {},
   "outputs": [
    {
     "data": {
      "image/png": "[encoded data removed]",
      "text/plain": [
       "Plot with title “Histogram of log_returns”"
      ]
     },
     "metadata": {},
     "output_type": "display_data"
    }
   ],
   "source": [
    "hist(log_returns, breaks = 75, probability = TRUE)\n",
    "\n",
    "x = seq(min(log_returns),max(log_returns),.001)\n",
    "\n",
    "y = dnorm(x,mean = mean(log_returns),sd= sd(log_returns))\n",
    "\n",
    "points(x,y,type = 'l',col='red')\n"
   ]
  },
  {
   "cell_type": "code",
   "execution_count": 12,
   "id": "33ea4539",
   "metadata": {},
   "outputs": [
    {
     "data": {
      "text/html": [
       "0.284424828283538"
      ],
      "text/latex": [
       "0.284424828283538"
      ],
      "text/markdown": [
       "0.284424828283538"
      ],
      "text/plain": [
       "[1] 0.2844248"
      ]
     },
     "metadata": {},
     "output_type": "display_data"
    }
   ],
   "source": [
    "moments::skewness(log_returns) # slightly positive skew.."
   ]
  },
  {
   "cell_type": "code",
   "execution_count": 13,
   "id": "0294509e",
   "metadata": {},
   "outputs": [
    {
     "data": {
      "text/plain": [
       "\n",
       "\tShapiro-Wilk normality test\n",
       "\n",
       "data:  log_returns\n",
       "W = 0.96894, p-value = 3.355e-11\n"
      ]
     },
     "metadata": {},
     "output_type": "display_data"
    }
   ],
   "source": [
    "shapiro.test(log_returns)"
   ]
  },
  {
   "cell_type": "markdown",
   "id": "6eaa53fa",
   "metadata": {},
   "source": [
    "### Shapiro-Wilk Test\n",
    "\n",
    "[Penn State - Test for Normality](https://online.stat.psu.edu/stat462/node/147/)\n",
    "\n",
    "\n",
    "$$H_{0} = \\text{The errors follow a normal distribution}$$\n",
    "\n",
    "$$H_{a} = \\text{ The errors do not follow a normal distribution. } $$\n",
    "\n",
    "- When p-value < Alpha (.05) then we reject the null and accept the alternative. \n",
    "\n",
    "- Here p = . 000000000000000022\n",
    "\n",
    "- Since p < .05, we acccpt the alternative. \n",
    "\n",
    "> *The null-hypothesis of this test is that the population is normally distributed. Thus, if the p value is less than the chosen alpha level, then the null hypothesis is rejected and there is evidence that the data tested are not normally distributed.*"
   ]
  },
  {
   "cell_type": "markdown",
   "id": "4bfe786f",
   "metadata": {},
   "source": [
    "### What is the ideal Volatility ? "
   ]
  },
  {
   "cell_type": "code",
   "execution_count": 14,
   "id": "7432d074",
   "metadata": {},
   "outputs": [
    {
     "data": {
      "text/html": [
       "<table class=\"dataframe\">\n",
       "<caption>A data.frame: 6 × 3</caption>\n",
       "<thead>\n",
       "\t<tr><th></th><th scope=col>Number of Trading Days</th><th scope=col>Annual Volatility</th><th scope=col>Standard Error</th></tr>\n",
       "\t<tr><th></th><th scope=col>&lt;int&gt;</th><th scope=col>&lt;dbl&gt;</th><th scope=col>&lt;dbl&gt;</th></tr>\n",
       "</thead>\n",
       "<tbody>\n",
       "\t<tr><th scope=row>1</th><td> 5</td><td>29.32902</td><td>0.8262514</td></tr>\n",
       "\t<tr><th scope=row>2</th><td> 6</td><td>32.01030</td><td>0.8232161</td></tr>\n",
       "\t<tr><th scope=row>3</th><td> 7</td><td>33.70132</td><td>0.8024124</td></tr>\n",
       "\t<tr><th scope=row>4</th><td> 8</td><td>44.86206</td><td>0.9991574</td></tr>\n",
       "\t<tr><th scope=row>5</th><td> 9</td><td>42.25378</td><td>0.8872460</td></tr>\n",
       "\t<tr><th scope=row>6</th><td>10</td><td>41.01451</td><td>0.8170286</td></tr>\n",
       "</tbody>\n",
       "</table>\n"
      ],
      "text/latex": [
       "A data.frame: 6 × 3\n",
       "\\begin{tabular}{r|lll}\n",
       "  & Number of Trading Days & Annual Volatility & Standard Error\\\\\n",
       "  & <int> & <dbl> & <dbl>\\\\\n",
       "\\hline\n",
       "\t1 &  5 & 29.32902 & 0.8262514\\\\\n",
       "\t2 &  6 & 32.01030 & 0.8232161\\\\\n",
       "\t3 &  7 & 33.70132 & 0.8024124\\\\\n",
       "\t4 &  8 & 44.86206 & 0.9991574\\\\\n",
       "\t5 &  9 & 42.25378 & 0.8872460\\\\\n",
       "\t6 & 10 & 41.01451 & 0.8170286\\\\\n",
       "\\end{tabular}\n"
      ],
      "text/markdown": [
       "\n",
       "A data.frame: 6 × 3\n",
       "\n",
       "| <!--/--> | Number of Trading Days &lt;int&gt; | Annual Volatility &lt;dbl&gt; | Standard Error &lt;dbl&gt; |\n",
       "|---|---|---|---|\n",
       "| 1 |  5 | 29.32902 | 0.8262514 |\n",
       "| 2 |  6 | 32.01030 | 0.8232161 |\n",
       "| 3 |  7 | 33.70132 | 0.8024124 |\n",
       "| 4 |  8 | 44.86206 | 0.9991574 |\n",
       "| 5 |  9 | 42.25378 | 0.8872460 |\n",
       "| 6 | 10 | 41.01451 | 0.8170286 |\n",
       "\n"
      ],
      "text/plain": [
       "  Number of Trading Days Annual Volatility Standard Error\n",
       "1  5                     29.32902          0.8262514     \n",
       "2  6                     32.01030          0.8232161     \n",
       "3  7                     33.70132          0.8024124     \n",
       "4  8                     44.86206          0.9991574     \n",
       "5  9                     42.25378          0.8872460     \n",
       "6 10                     41.01451          0.8170286     "
      ]
     },
     "metadata": {},
     "output_type": "display_data"
    }
   ],
   "source": [
    "X = NULL\n",
    "Y = NULL\n",
    "Z = NULL\n",
    "min_value = 5\n",
    "count = 0\n",
    "for(i in min_value:400){\n",
    "    count = count + 1\n",
    "    X[count] = i\n",
    "\n",
    "    Y[count] = (sd(TSLA_STOCK$log_returns[1:i]) * sqrt(252)) *  100\n",
    "    \n",
    "    # Standard error... \n",
    "    Z[count] = (sd(TSLA_STOCK$log_returns[1:i]) / sqrt(i)) * 100\n",
    "}\n",
    "\n",
    "df = data.frame(X, Y, Z)\n",
    "colnames(df) = c(\"Number of Trading Days\", \"Annual Volatility\",  \"Standard Error\")\n",
    "head(df)"
   ]
  },
  {
   "cell_type": "code",
   "execution_count": 84,
   "id": "a5e7b040",
   "metadata": {},
   "outputs": [
    {
     "data": {
      "image/png": "[encoded data removed]",
      "text/plain": [
       "plot without title"
      ]
     },
     "metadata": {},
     "output_type": "display_data"
    }
   ],
   "source": [
    "plot_1 <- ggplot(df) +\n",
    "  geom_point(aes(x = X, y = Y))+\n",
    "  labs(\n",
    "    title = \"Scatter Plot\",\n",
    "    y = \"Annual Volatility (%)\",\n",
    "    x = \"Number of Trading Days\")\n",
    "\n",
    "plot_1 + theme_linedraw()  # This is the \"theme\" for ggplot2"
   ]
  },
  {
   "cell_type": "code",
   "execution_count": null,
   "id": "20e124f0",
   "metadata": {},
   "outputs": [],
   "source": []
  }
 ],
 "metadata": {
  "kernelspec": {
   "display_name": "R 3.3",
   "language": "R",
   "name": "ir33"
  },
  "language_info": {
   "codemirror_mode": "r",
   "file_extension": ".r",
   "mimetype": "text/x-r-source",
   "name": "R",
   "pygments_lexer": "r",
   "version": "3.6.1"
  }
 },
 "nbformat": 4,
 "nbformat_minor": 5
}
