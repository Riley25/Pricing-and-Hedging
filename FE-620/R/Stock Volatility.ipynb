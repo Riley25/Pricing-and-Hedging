{
 "cells": [
  {
   "cell_type": "code",
   "execution_count": 1,
   "id": "91e5a760",
   "metadata": {},
   "outputs": [
    {
     "name": "stderr",
     "output_type": "stream",
     "text": [
      "Warning message:\n",
      "“package ‘moments’ was built under R version 3.6.3”"
     ]
    }
   ],
   "source": [
    "suppressMessages(library('dplyr'))\n",
    "suppressMessages(library('quantmod'))\n",
    "suppressMessages(library('repr'))\n",
    "suppressMessages(library('xlsx'))\n",
    "suppressMessages(library('derivmkts'))\n",
    "suppressMessages(library('ggplot2'))\n",
    "suppressMessages(library('moments'))\n",
    "suppressMessages(library('bizdays'))\n",
    "suppressMessages(library('lubridate'))\n",
    "# This changes the size of plots\n",
    "options(repr.plot.width = 5.5, repr.plot.height =4)"
   ]
  },
  {
   "cell_type": "code",
   "execution_count": 2,
   "id": "770a16ca",
   "metadata": {},
   "outputs": [
    {
     "name": "stdout",
     "output_type": "stream",
     "text": [
      "[1] \"Total Number of Rows = 717\"\n",
      "[1] \"Total Number of Columns = 7\"\n"
     ]
    }
   ],
   "source": [
    "TSLA_OPTIONS = xlsx::read.xlsx('Data/TSLA_OPTIONS.xlsx', sheetName = \"Sheet1\")\n",
    "\n",
    "TSLA_STOCK = xlsx::read.xlsx('Data/TSLA_STOCK.xlsx', sheetName = \"Sheet1\")\n",
    "\n",
    "\n",
    "n_row = dim(TSLA_STOCK)[1]\n",
    "print(paste(c(\"Total Number of Rows = \", n_row), collapse = ''))\n",
    "\n",
    "n_col = dim(TSLA_STOCK)[2]\n",
    "print(paste(c(\"Total Number of Columns = \", n_col), collapse = ''))"
   ]
  },
  {
   "cell_type": "code",
   "execution_count": 50,
   "id": "fe79e971",
   "metadata": {},
   "outputs": [],
   "source": [
    "# convert date to \"Date\" variable\n",
    "TSLA_STOCK$Date = as.Date(TSLA_STOCK$Date, format=\"%Y-%m-%d\")"
   ]
  },
  {
   "cell_type": "code",
   "execution_count": 51,
   "id": "ccddd922",
   "metadata": {},
   "outputs": [
    {
     "data": {
      "text/html": [
       "<time datetime=\"2019-01-02\">2019-01-02</time>"
      ],
      "text/latex": [
       "2019-01-02"
      ],
      "text/markdown": [
       "2019-01-02"
      ],
      "text/plain": [
       "[1] \"2019-01-02\""
      ]
     },
     "metadata": {},
     "output_type": "display_data"
    }
   ],
   "source": [
    "min(TSLA_STOCK$Date)"
   ]
  },
  {
   "cell_type": "code",
   "execution_count": 52,
   "id": "45a7fade",
   "metadata": {},
   "outputs": [
    {
     "data": {
      "text/html": [
       "<time datetime=\"2021-11-03\">2021-11-03</time>"
      ],
      "text/latex": [
       "2021-11-03"
      ],
      "text/markdown": [
       "2021-11-03"
      ],
      "text/plain": [
       "[1] \"2021-11-03\""
      ]
     },
     "metadata": {},
     "output_type": "display_data"
    }
   ],
   "source": [
    "max(TSLA_STOCK$Date)"
   ]
  },
  {
   "cell_type": "code",
   "execution_count": 53,
   "id": "c4bb9ece",
   "metadata": {},
   "outputs": [
    {
     "data": {
      "text/plain": [
       "Time difference of 1036 days"
      ]
     },
     "metadata": {},
     "output_type": "display_data"
    }
   ],
   "source": [
    "max(TSLA_STOCK$Date) - min(TSLA_STOCK$Date)"
   ]
  },
  {
   "cell_type": "code",
   "execution_count": 54,
   "id": "77add81c",
   "metadata": {},
   "outputs": [
    {
     "data": {
      "text/html": [
       "<table class=\"dataframe\">\n",
       "<caption>A data.frame: 6 × 7</caption>\n",
       "<thead>\n",
       "\t<tr><th></th><th scope=col>Date</th><th scope=col>TSLA.Open</th><th scope=col>TSLA.High</th><th scope=col>TSLA.Low</th><th scope=col>TSLA.Close</th><th scope=col>TSLA.Volume</th><th scope=col>TSLA.Adjusted</th></tr>\n",
       "\t<tr><th></th><th scope=col>&lt;date&gt;</th><th scope=col>&lt;dbl&gt;</th><th scope=col>&lt;dbl&gt;</th><th scope=col>&lt;dbl&gt;</th><th scope=col>&lt;dbl&gt;</th><th scope=col>&lt;dbl&gt;</th><th scope=col>&lt;dbl&gt;</th></tr>\n",
       "</thead>\n",
       "<tbody>\n",
       "\t<tr><th scope=row>1</th><td>2019-01-02</td><td>61.220</td><td>63.026</td><td>59.760</td><td>62.024</td><td>58293000</td><td>62.024</td></tr>\n",
       "\t<tr><th scope=row>2</th><td>2019-01-03</td><td>61.400</td><td>61.880</td><td>59.476</td><td>60.072</td><td>34826000</td><td>60.072</td></tr>\n",
       "\t<tr><th scope=row>3</th><td>2019-01-04</td><td>61.200</td><td>63.600</td><td>60.546</td><td>63.538</td><td>36970500</td><td>63.538</td></tr>\n",
       "\t<tr><th scope=row>4</th><td>2019-01-07</td><td>64.344</td><td>67.348</td><td>63.550</td><td>66.992</td><td>37756000</td><td>66.992</td></tr>\n",
       "\t<tr><th scope=row>5</th><td>2019-01-08</td><td>68.392</td><td>68.802</td><td>65.404</td><td>67.070</td><td>35042500</td><td>67.070</td></tr>\n",
       "\t<tr><th scope=row>6</th><td>2019-01-09</td><td>67.100</td><td>68.700</td><td>66.294</td><td>67.706</td><td>27164500</td><td>67.706</td></tr>\n",
       "</tbody>\n",
       "</table>\n"
      ],
      "text/latex": [
       "A data.frame: 6 × 7\n",
       "\\begin{tabular}{r|lllllll}\n",
       "  & Date & TSLA.Open & TSLA.High & TSLA.Low & TSLA.Close & TSLA.Volume & TSLA.Adjusted\\\\\n",
       "  & <date> & <dbl> & <dbl> & <dbl> & <dbl> & <dbl> & <dbl>\\\\\n",
       "\\hline\n",
       "\t1 & 2019-01-02 & 61.220 & 63.026 & 59.760 & 62.024 & 58293000 & 62.024\\\\\n",
       "\t2 & 2019-01-03 & 61.400 & 61.880 & 59.476 & 60.072 & 34826000 & 60.072\\\\\n",
       "\t3 & 2019-01-04 & 61.200 & 63.600 & 60.546 & 63.538 & 36970500 & 63.538\\\\\n",
       "\t4 & 2019-01-07 & 64.344 & 67.348 & 63.550 & 66.992 & 37756000 & 66.992\\\\\n",
       "\t5 & 2019-01-08 & 68.392 & 68.802 & 65.404 & 67.070 & 35042500 & 67.070\\\\\n",
       "\t6 & 2019-01-09 & 67.100 & 68.700 & 66.294 & 67.706 & 27164500 & 67.706\\\\\n",
       "\\end{tabular}\n"
      ],
      "text/markdown": [
       "\n",
       "A data.frame: 6 × 7\n",
       "\n",
       "| <!--/--> | Date &lt;date&gt; | TSLA.Open &lt;dbl&gt; | TSLA.High &lt;dbl&gt; | TSLA.Low &lt;dbl&gt; | TSLA.Close &lt;dbl&gt; | TSLA.Volume &lt;dbl&gt; | TSLA.Adjusted &lt;dbl&gt; |\n",
       "|---|---|---|---|---|---|---|---|\n",
       "| 1 | 2019-01-02 | 61.220 | 63.026 | 59.760 | 62.024 | 58293000 | 62.024 |\n",
       "| 2 | 2019-01-03 | 61.400 | 61.880 | 59.476 | 60.072 | 34826000 | 60.072 |\n",
       "| 3 | 2019-01-04 | 61.200 | 63.600 | 60.546 | 63.538 | 36970500 | 63.538 |\n",
       "| 4 | 2019-01-07 | 64.344 | 67.348 | 63.550 | 66.992 | 37756000 | 66.992 |\n",
       "| 5 | 2019-01-08 | 68.392 | 68.802 | 65.404 | 67.070 | 35042500 | 67.070 |\n",
       "| 6 | 2019-01-09 | 67.100 | 68.700 | 66.294 | 67.706 | 27164500 | 67.706 |\n",
       "\n"
      ],
      "text/plain": [
       "  Date       TSLA.Open TSLA.High TSLA.Low TSLA.Close TSLA.Volume TSLA.Adjusted\n",
       "1 2019-01-02 61.220    63.026    59.760   62.024     58293000    62.024       \n",
       "2 2019-01-03 61.400    61.880    59.476   60.072     34826000    60.072       \n",
       "3 2019-01-04 61.200    63.600    60.546   63.538     36970500    63.538       \n",
       "4 2019-01-07 64.344    67.348    63.550   66.992     37756000    66.992       \n",
       "5 2019-01-08 68.392    68.802    65.404   67.070     35042500    67.070       \n",
       "6 2019-01-09 67.100    68.700    66.294   67.706     27164500    67.706       "
      ]
     },
     "metadata": {},
     "output_type": "display_data"
    }
   ],
   "source": [
    "head(TSLA_STOCK)"
   ]
  },
  {
   "cell_type": "code",
   "execution_count": 55,
   "id": "88ca605f",
   "metadata": {},
   "outputs": [
    {
     "data": {
      "text/html": [
       "<time datetime=\"2019-01-02\">2019-01-02</time>"
      ],
      "text/latex": [
       "2019-01-02"
      ],
      "text/markdown": [
       "2019-01-02"
      ],
      "text/plain": [
       "[1] \"2019-01-02\""
      ]
     },
     "metadata": {},
     "output_type": "display_data"
    },
    {
     "data": {
      "text/html": [
       "<time datetime=\"2021-11-03\">2021-11-03</time>"
      ],
      "text/latex": [
       "2021-11-03"
      ],
      "text/markdown": [
       "2021-11-03"
      ],
      "text/plain": [
       "[1] \"2021-11-03\""
      ]
     },
     "metadata": {},
     "output_type": "display_data"
    }
   ],
   "source": [
    "cal <-  create.calendar(name=\"mycal\", weekdays=c(\"saturday\", \"sunday\"))\n",
    "start_date = min(TSLA_STOCK$Date); start_date\n",
    "end_date = max(TSLA_STOCK$Date); end_date\n",
    "x = as.numeric(bizdays::bizdays(start_date, end_date, cal = cal))\n",
    "\n",
    "#print(paste(c(\"Total Number of Trading Days .. \", x), collapse = ''))"
   ]
  },
  {
   "cell_type": "markdown",
   "id": "5e32d143",
   "metadata": {},
   "source": [
    "---\n",
    "\n",
    "### How many exp dates do we have?"
   ]
  },
  {
   "cell_type": "code",
   "execution_count": 36,
   "id": "0b4cdf9a",
   "metadata": {},
   "outputs": [],
   "source": [
    "#n_row = dim(TSLA_OPTIONS)[1]\n",
    "#n_col = dim(TSLA_OPTIONS)[2]"
   ]
  },
  {
   "cell_type": "code",
   "execution_count": 37,
   "id": "74a8b3af",
   "metadata": {},
   "outputs": [
    {
     "data": {
      "text/html": [
       "195"
      ],
      "text/latex": [
       "195"
      ],
      "text/markdown": [
       "195"
      ],
      "text/plain": [
       "[1] 195"
      ]
     },
     "metadata": {},
     "output_type": "display_data"
    },
    {
     "data": {
      "text/html": [
       "<style>\n",
       ".list-inline {list-style: none; margin:0; padding: 0}\n",
       ".list-inline>li {display: inline-block}\n",
       ".list-inline>li:not(:last-child)::after {content: \"\\00b7\"; padding: 0 .5ex}\n",
       "</style>\n",
       "<ol class=list-inline><li>11/5/2021</li><li>11/12/2021</li><li>11/19/2021</li><li>11/26/2021</li><li>12/03/2021</li><li>12/10/2021</li><li>12/17/2021</li></ol>\n",
       "\n",
       "<details>\n",
       "\t<summary style=display:list-item;cursor:pointer>\n",
       "\t\t<strong>Levels</strong>:\n",
       "\t</summary>\n",
       "\t<style>\n",
       "\t.list-inline {list-style: none; margin:0; padding: 0}\n",
       "\t.list-inline>li {display: inline-block}\n",
       "\t.list-inline>li:not(:last-child)::after {content: \"\\00b7\"; padding: 0 .5ex}\n",
       "\t</style>\n",
       "\t<ol class=list-inline><li>'11/12/2021'</li><li>'11/19/2021'</li><li>'11/26/2021'</li><li>'11/5/2021'</li><li>'12/03/2021'</li><li>'12/10/2021'</li><li>'12/17/2021'</li></ol>\n",
       "</details>"
      ],
      "text/latex": [
       "\\begin{enumerate*}\n",
       "\\item 11/5/2021\n",
       "\\item 11/12/2021\n",
       "\\item 11/19/2021\n",
       "\\item 11/26/2021\n",
       "\\item 12/03/2021\n",
       "\\item 12/10/2021\n",
       "\\item 12/17/2021\n",
       "\\end{enumerate*}\n",
       "\n",
       "\\emph{Levels}: \\begin{enumerate*}\n",
       "\\item '11/12/2021'\n",
       "\\item '11/19/2021'\n",
       "\\item '11/26/2021'\n",
       "\\item '11/5/2021'\n",
       "\\item '12/03/2021'\n",
       "\\item '12/10/2021'\n",
       "\\item '12/17/2021'\n",
       "\\end{enumerate*}\n"
      ],
      "text/markdown": [
       "1. 11/5/2021\n",
       "2. 11/12/2021\n",
       "3. 11/19/2021\n",
       "4. 11/26/2021\n",
       "5. 12/03/2021\n",
       "6. 12/10/2021\n",
       "7. 12/17/2021\n",
       "\n",
       "\n",
       "\n",
       "**Levels**: 1. '11/12/2021'\n",
       "2. '11/19/2021'\n",
       "3. '11/26/2021'\n",
       "4. '11/5/2021'\n",
       "5. '12/03/2021'\n",
       "6. '12/10/2021'\n",
       "7. '12/17/2021'\n",
       "\n",
       "\n"
      ],
      "text/plain": [
       "[1] 11/5/2021  11/12/2021 11/19/2021 11/26/2021 12/03/2021 12/10/2021 12/17/2021\n",
       "7 Levels: 11/12/2021 11/19/2021 11/26/2021 11/5/2021 12/03/2021 ... 12/17/2021"
      ]
     },
     "metadata": {},
     "output_type": "display_data"
    }
   ],
   "source": [
    "length(unique(TSLA_OPTIONS$Strike))\n",
    "dates = unique(TSLA_OPTIONS$Exp_date)\n",
    "dates"
   ]
  },
  {
   "cell_type": "code",
   "execution_count": 38,
   "id": "b7789b93",
   "metadata": {},
   "outputs": [
    {
     "name": "stdout",
     "output_type": "stream",
     "text": [
      "'data.frame':\t1925 obs. of  16 variables:\n",
      " $ Strike           : num  50 100 150 200 250 300 310 320 330 350 ...\n",
      " $ Last             : num  1146 1096 1044 996 927 ...\n",
      " $ Chg              : num  16.6 28.21 6.06 5.6 -8.94 ...\n",
      " $ Bid              : num  1163 1113 1063 1013 963 ...\n",
      " $ Ask              : num  1165 1115 1065 1015 965 ...\n",
      " $ Vol              : num  9 7 2 4 1 5 3 2 1 1 ...\n",
      " $ OI               : num  5 7 2 22 1 5 2 3 2 0 ...\n",
      " $ LastTradeTime    : POSIXct, format: \"2021-11-03 19:20:48\" \"2021-11-03 19:20:48\" ...\n",
      " $ IV               : num  18.64 14.26 11.85 10.2 8.95 ...\n",
      " $ ITM              : Factor w/ 2 levels \"FALSE\",\"TRUE\": 2 2 2 2 2 2 2 2 2 2 ...\n",
      " $ INDEX            : Factor w/ 1925 levels \"TSLA211105C00050000\",..: 1 2 3 4 5 6 7 8 9 10 ...\n",
      " $ Exp_date         : Factor w/ 7 levels \"11/12/2021\",\"11/19/2021\",..: 4 4 4 4 4 4 4 4 4 4 ...\n",
      " $ TYPE             : Factor w/ 2 levels \"CALL\",\"PUT\": 1 1 1 1 1 1 1 1 1 1 ...\n",
      " $ Snapshot_Date    : Factor w/ 1 level \"11/3/2021\": 1 1 1 1 1 1 1 1 1 1 ...\n",
      " $ Years_to_Exp_Date: num  0.00794 0.00794 0.00794 0.00794 0.00794 ...\n",
      " $ Avg_Price        : num  1164 1114 1064 1014 964 ...\n"
     ]
    }
   ],
   "source": [
    "str(TSLA_OPTIONS)"
   ]
  },
  {
   "cell_type": "code",
   "execution_count": 39,
   "id": "fb8e0746",
   "metadata": {},
   "outputs": [
    {
     "data": {
      "text/plain": [
       "NULL"
      ]
     },
     "metadata": {},
     "output_type": "display_data"
    }
   ],
   "source": [
    "levels(droplevels(TSLA_OPTIONS))"
   ]
  },
  {
   "cell_type": "code",
   "execution_count": 47,
   "id": "720253d9",
   "metadata": {},
   "outputs": [],
   "source": [
    "#l = length(unique(TSLA_OPTIONS$Exp_date))\n",
    "#new_df = TSLA_OPTIONS\n",
    "#new_df$Exp_date = as.character(new_df$Exp_date)\n",
    "\n",
    "#for(i in 1:l){\n",
    "#    date_i = as.character(dates[i])\n",
    "\n",
    "#    sub_OPTIONS = subset(new_df, Exp_date == date_i)\n",
    "#    print(dim(sub_OPTIONS))\n",
    "#    print(min(sub_OPTIONS$Strike))\n",
    "#    print(max(sub_OPTIONS$Strike))\n",
    "#    print(\"   \")\n",
    "#}"
   ]
  },
  {
   "cell_type": "markdown",
   "id": "b7420afa",
   "metadata": {},
   "source": [
    "---"
   ]
  },
  {
   "cell_type": "code",
   "execution_count": 42,
   "id": "a3a662a5",
   "metadata": {},
   "outputs": [
    {
     "data": {
      "text/html": [
       "<style>\n",
       ".list-inline {list-style: none; margin:0; padding: 0}\n",
       ".list-inline>li {display: inline-block}\n",
       ".list-inline>li:not(:last-child)::after {content: \"\\00b7\"; padding: 0 .5ex}\n",
       "</style>\n",
       "<ol class=list-inline><li>'Strike'</li><li>'Last'</li><li>'Chg'</li><li>'Bid'</li><li>'Ask'</li><li>'Vol'</li><li>'OI'</li><li>'LastTradeTime'</li><li>'IV'</li><li>'ITM'</li><li>'INDEX'</li><li>'Exp_date'</li><li>'TYPE'</li><li>'Snapshot_Date'</li><li>'Years_to_Exp_Date'</li><li>'Avg_Price'</li></ol>\n"
      ],
      "text/latex": [
       "\\begin{enumerate*}\n",
       "\\item 'Strike'\n",
       "\\item 'Last'\n",
       "\\item 'Chg'\n",
       "\\item 'Bid'\n",
       "\\item 'Ask'\n",
       "\\item 'Vol'\n",
       "\\item 'OI'\n",
       "\\item 'LastTradeTime'\n",
       "\\item 'IV'\n",
       "\\item 'ITM'\n",
       "\\item 'INDEX'\n",
       "\\item 'Exp\\_date'\n",
       "\\item 'TYPE'\n",
       "\\item 'Snapshot\\_Date'\n",
       "\\item 'Years\\_to\\_Exp\\_Date'\n",
       "\\item 'Avg\\_Price'\n",
       "\\end{enumerate*}\n"
      ],
      "text/markdown": [
       "1. 'Strike'\n",
       "2. 'Last'\n",
       "3. 'Chg'\n",
       "4. 'Bid'\n",
       "5. 'Ask'\n",
       "6. 'Vol'\n",
       "7. 'OI'\n",
       "8. 'LastTradeTime'\n",
       "9. 'IV'\n",
       "10. 'ITM'\n",
       "11. 'INDEX'\n",
       "12. 'Exp_date'\n",
       "13. 'TYPE'\n",
       "14. 'Snapshot_Date'\n",
       "15. 'Years_to_Exp_Date'\n",
       "16. 'Avg_Price'\n",
       "\n",
       "\n"
      ],
      "text/plain": [
       " [1] \"Strike\"            \"Last\"              \"Chg\"              \n",
       " [4] \"Bid\"               \"Ask\"               \"Vol\"              \n",
       " [7] \"OI\"                \"LastTradeTime\"     \"IV\"               \n",
       "[10] \"ITM\"               \"INDEX\"             \"Exp_date\"         \n",
       "[13] \"TYPE\"              \"Snapshot_Date\"     \"Years_to_Exp_Date\"\n",
       "[16] \"Avg_Price\"        "
      ]
     },
     "metadata": {},
     "output_type": "display_data"
    }
   ],
   "source": [
    "colnames(TSLA_OPTIONS)"
   ]
  },
  {
   "cell_type": "markdown",
   "id": "ea36c879",
   "metadata": {},
   "source": [
    "### Generate a vector of log returns \n",
    "\n",
    "$$\\text{Log Returns} = \\log\\Big(\\frac{R_{i}}{R_{i-1}}\\Big)$$"
   ]
  },
  {
   "cell_type": "code",
   "execution_count": 56,
   "id": "ef60517d",
   "metadata": {},
   "outputs": [],
   "source": [
    "log_returns = NULL"
   ]
  },
  {
   "cell_type": "code",
   "execution_count": 57,
   "id": "2449e00a",
   "metadata": {},
   "outputs": [
    {
     "data": {
      "text/html": [
       "717"
      ],
      "text/latex": [
       "717"
      ],
      "text/markdown": [
       "717"
      ],
      "text/plain": [
       "[1] 717"
      ]
     },
     "metadata": {},
     "output_type": "display_data"
    }
   ],
   "source": [
    "n_row"
   ]
  },
  {
   "cell_type": "code",
   "execution_count": 58,
   "id": "f914b898",
   "metadata": {},
   "outputs": [
    {
     "name": "stdout",
     "output_type": "stream",
     "text": [
      "[1]  0.01304742 -0.02186604  0.03749091  0.04032944 -0.01951898\n"
     ]
    },
    {
     "data": {
      "text/html": [
       "<table class=\"dataframe\">\n",
       "<caption>A data.frame: 6 × 8</caption>\n",
       "<thead>\n",
       "\t<tr><th></th><th scope=col>Date</th><th scope=col>TSLA.Open</th><th scope=col>TSLA.High</th><th scope=col>TSLA.Low</th><th scope=col>TSLA.Close</th><th scope=col>TSLA.Volume</th><th scope=col>TSLA.Adjusted</th><th scope=col>log_returns</th></tr>\n",
       "\t<tr><th></th><th scope=col>&lt;date&gt;</th><th scope=col>&lt;dbl&gt;</th><th scope=col>&lt;dbl&gt;</th><th scope=col>&lt;dbl&gt;</th><th scope=col>&lt;dbl&gt;</th><th scope=col>&lt;dbl&gt;</th><th scope=col>&lt;dbl&gt;</th><th scope=col>&lt;dbl&gt;</th></tr>\n",
       "</thead>\n",
       "<tbody>\n",
       "\t<tr><th scope=row>1</th><td>2019-01-02</td><td>61.220</td><td>63.026</td><td>59.760</td><td>62.024</td><td>58293000</td><td>62.024</td><td> 0.013047425</td></tr>\n",
       "\t<tr><th scope=row>2</th><td>2019-01-03</td><td>61.400</td><td>61.880</td><td>59.476</td><td>60.072</td><td>34826000</td><td>60.072</td><td>-0.021866042</td></tr>\n",
       "\t<tr><th scope=row>3</th><td>2019-01-04</td><td>61.200</td><td>63.600</td><td>60.546</td><td>63.538</td><td>36970500</td><td>63.538</td><td> 0.037490915</td></tr>\n",
       "\t<tr><th scope=row>4</th><td>2019-01-07</td><td>64.344</td><td>67.348</td><td>63.550</td><td>66.992</td><td>37756000</td><td>66.992</td><td> 0.040329444</td></tr>\n",
       "\t<tr><th scope=row>5</th><td>2019-01-08</td><td>68.392</td><td>68.802</td><td>65.404</td><td>67.070</td><td>35042500</td><td>67.070</td><td>-0.019518979</td></tr>\n",
       "\t<tr><th scope=row>6</th><td>2019-01-09</td><td>67.100</td><td>68.700</td><td>66.294</td><td>67.706</td><td>27164500</td><td>67.706</td><td> 0.008990803</td></tr>\n",
       "</tbody>\n",
       "</table>\n"
      ],
      "text/latex": [
       "A data.frame: 6 × 8\n",
       "\\begin{tabular}{r|llllllll}\n",
       "  & Date & TSLA.Open & TSLA.High & TSLA.Low & TSLA.Close & TSLA.Volume & TSLA.Adjusted & log\\_returns\\\\\n",
       "  & <date> & <dbl> & <dbl> & <dbl> & <dbl> & <dbl> & <dbl> & <dbl>\\\\\n",
       "\\hline\n",
       "\t1 & 2019-01-02 & 61.220 & 63.026 & 59.760 & 62.024 & 58293000 & 62.024 &  0.013047425\\\\\n",
       "\t2 & 2019-01-03 & 61.400 & 61.880 & 59.476 & 60.072 & 34826000 & 60.072 & -0.021866042\\\\\n",
       "\t3 & 2019-01-04 & 61.200 & 63.600 & 60.546 & 63.538 & 36970500 & 63.538 &  0.037490915\\\\\n",
       "\t4 & 2019-01-07 & 64.344 & 67.348 & 63.550 & 66.992 & 37756000 & 66.992 &  0.040329444\\\\\n",
       "\t5 & 2019-01-08 & 68.392 & 68.802 & 65.404 & 67.070 & 35042500 & 67.070 & -0.019518979\\\\\n",
       "\t6 & 2019-01-09 & 67.100 & 68.700 & 66.294 & 67.706 & 27164500 & 67.706 &  0.008990803\\\\\n",
       "\\end{tabular}\n"
      ],
      "text/markdown": [
       "\n",
       "A data.frame: 6 × 8\n",
       "\n",
       "| <!--/--> | Date &lt;date&gt; | TSLA.Open &lt;dbl&gt; | TSLA.High &lt;dbl&gt; | TSLA.Low &lt;dbl&gt; | TSLA.Close &lt;dbl&gt; | TSLA.Volume &lt;dbl&gt; | TSLA.Adjusted &lt;dbl&gt; | log_returns &lt;dbl&gt; |\n",
       "|---|---|---|---|---|---|---|---|---|\n",
       "| 1 | 2019-01-02 | 61.220 | 63.026 | 59.760 | 62.024 | 58293000 | 62.024 |  0.013047425 |\n",
       "| 2 | 2019-01-03 | 61.400 | 61.880 | 59.476 | 60.072 | 34826000 | 60.072 | -0.021866042 |\n",
       "| 3 | 2019-01-04 | 61.200 | 63.600 | 60.546 | 63.538 | 36970500 | 63.538 |  0.037490915 |\n",
       "| 4 | 2019-01-07 | 64.344 | 67.348 | 63.550 | 66.992 | 37756000 | 66.992 |  0.040329444 |\n",
       "| 5 | 2019-01-08 | 68.392 | 68.802 | 65.404 | 67.070 | 35042500 | 67.070 | -0.019518979 |\n",
       "| 6 | 2019-01-09 | 67.100 | 68.700 | 66.294 | 67.706 | 27164500 | 67.706 |  0.008990803 |\n",
       "\n"
      ],
      "text/plain": [
       "  Date       TSLA.Open TSLA.High TSLA.Low TSLA.Close TSLA.Volume TSLA.Adjusted\n",
       "1 2019-01-02 61.220    63.026    59.760   62.024     58293000    62.024       \n",
       "2 2019-01-03 61.400    61.880    59.476   60.072     34826000    60.072       \n",
       "3 2019-01-04 61.200    63.600    60.546   63.538     36970500    63.538       \n",
       "4 2019-01-07 64.344    67.348    63.550   66.992     37756000    66.992       \n",
       "5 2019-01-08 68.392    68.802    65.404   67.070     35042500    67.070       \n",
       "6 2019-01-09 67.100    68.700    66.294   67.706     27164500    67.706       \n",
       "  log_returns \n",
       "1  0.013047425\n",
       "2 -0.021866042\n",
       "3  0.037490915\n",
       "4  0.040329444\n",
       "5 -0.019518979\n",
       "6  0.008990803"
      ]
     },
     "metadata": {},
     "output_type": "display_data"
    }
   ],
   "source": [
    "for(i in 1:n_row){\n",
    "\n",
    "    log_returns[i] = log(TSLA_STOCK$TSLA.Close[i] / TSLA_STOCK$TSLA.Open[i])\n",
    "\n",
    "}\n",
    "\n",
    "print(log_returns[1:5])\n",
    "TSLA_STOCK$log_returns = log_returns\n",
    "head(TSLA_STOCK)"
   ]
  },
  {
   "cell_type": "code",
   "execution_count": 59,
   "id": "c2381dd9",
   "metadata": {},
   "outputs": [
    {
     "data": {
      "image/png": "[encoded data removed]",
      "text/plain": [
       "Plot with title “Histogram of log_returns”"
      ]
     },
     "metadata": {},
     "output_type": "display_data"
    }
   ],
   "source": [
    "hist(log_returns, breaks = 75, probability = TRUE)\n",
    "\n",
    "x = seq(min(log_returns),max(log_returns),.001)\n",
    "\n",
    "y = dnorm(x,mean = mean(log_returns),sd= sd(log_returns))\n",
    "\n",
    "points(x,y,type = 'l',col='red')\n"
   ]
  },
  {
   "cell_type": "code",
   "execution_count": 60,
   "id": "33ea4539",
   "metadata": {},
   "outputs": [
    {
     "data": {
      "text/html": [
       "0.284424828283538"
      ],
      "text/latex": [
       "0.284424828283538"
      ],
      "text/markdown": [
       "0.284424828283538"
      ],
      "text/plain": [
       "[1] 0.2844248"
      ]
     },
     "metadata": {},
     "output_type": "display_data"
    }
   ],
   "source": [
    "moments::skewness(log_returns) # slightly positive skew.."
   ]
  },
  {
   "cell_type": "code",
   "execution_count": 61,
   "id": "0294509e",
   "metadata": {},
   "outputs": [
    {
     "data": {
      "text/plain": [
       "\n",
       "\tShapiro-Wilk normality test\n",
       "\n",
       "data:  log_returns\n",
       "W = 0.96894, p-value = 3.355e-11\n"
      ]
     },
     "metadata": {},
     "output_type": "display_data"
    }
   ],
   "source": [
    "shapiro.test(log_returns)"
   ]
  },
  {
   "cell_type": "markdown",
   "id": "6eaa53fa",
   "metadata": {},
   "source": [
    "### Shapiro-Wilk Test\n",
    "\n",
    "[Penn State - Test for Normality](https://online.stat.psu.edu/stat462/node/147/)\n",
    "\n",
    "\n",
    "$$H_{0} = \\text{The errors follow a normal distribution}$$\n",
    "\n",
    "$$H_{a} = \\text{ The errors do not follow a normal distribution. } $$\n",
    "\n",
    "- When p-value < Alpha (.05) then we reject the null and accept the alternative. \n",
    "\n",
    "- Here p = . 000000000000000022\n",
    "\n",
    "- Since p < .05, we acccpt the alternative. \n",
    "\n",
    "> *The null-hypothesis of this test is that the population is normally distributed. Thus, if the p value is less than the chosen alpha level, then the null hypothesis is rejected and there is evidence that the data tested are not normally distributed.*"
   ]
  },
  {
   "cell_type": "markdown",
   "id": "4bfe786f",
   "metadata": {},
   "source": [
    "### What is the Volatility ? "
   ]
  },
  {
   "cell_type": "code",
   "execution_count": 68,
   "id": "7432d074",
   "metadata": {},
   "outputs": [
    {
     "data": {
      "text/html": [
       "<table class=\"dataframe\">\n",
       "<caption>A data.frame: 6 × 3</caption>\n",
       "<thead>\n",
       "\t<tr><th></th><th scope=col>X</th><th scope=col>Y</th><th scope=col>Z</th></tr>\n",
       "\t<tr><th></th><th scope=col>&lt;int&gt;</th><th scope=col>&lt;dbl&gt;</th><th scope=col>&lt;dbl&gt;</th></tr>\n",
       "</thead>\n",
       "<tbody>\n",
       "\t<tr><th scope=row>1</th><td> 5</td><td>47.43579</td><td>15.000515</td></tr>\n",
       "\t<tr><th scope=row>2</th><td> 6</td><td>42.43192</td><td>12.249041</td></tr>\n",
       "\t<tr><th scope=row>3</th><td> 7</td><td>40.80265</td><td>10.904967</td></tr>\n",
       "\t<tr><th scope=row>4</th><td> 8</td><td>37.79611</td><td> 9.449027</td></tr>\n",
       "\t<tr><th scope=row>5</th><td> 9</td><td>40.32659</td><td> 9.505069</td></tr>\n",
       "\t<tr><th scope=row>6</th><td>10</td><td>39.16916</td><td> 8.758490</td></tr>\n",
       "</tbody>\n",
       "</table>\n"
      ],
      "text/latex": [
       "A data.frame: 6 × 3\n",
       "\\begin{tabular}{r|lll}\n",
       "  & X & Y & Z\\\\\n",
       "  & <int> & <dbl> & <dbl>\\\\\n",
       "\\hline\n",
       "\t1 &  5 & 47.43579 & 15.000515\\\\\n",
       "\t2 &  6 & 42.43192 & 12.249041\\\\\n",
       "\t3 &  7 & 40.80265 & 10.904967\\\\\n",
       "\t4 &  8 & 37.79611 &  9.449027\\\\\n",
       "\t5 &  9 & 40.32659 &  9.505069\\\\\n",
       "\t6 & 10 & 39.16916 &  8.758490\\\\\n",
       "\\end{tabular}\n"
      ],
      "text/markdown": [
       "\n",
       "A data.frame: 6 × 3\n",
       "\n",
       "| <!--/--> | X &lt;int&gt; | Y &lt;dbl&gt; | Z &lt;dbl&gt; |\n",
       "|---|---|---|---|\n",
       "| 1 |  5 | 47.43579 | 15.000515 |\n",
       "| 2 |  6 | 42.43192 | 12.249041 |\n",
       "| 3 |  7 | 40.80265 | 10.904967 |\n",
       "| 4 |  8 | 37.79611 |  9.449027 |\n",
       "| 5 |  9 | 40.32659 |  9.505069 |\n",
       "| 6 | 10 | 39.16916 |  8.758490 |\n",
       "\n"
      ],
      "text/plain": [
       "  X  Y        Z        \n",
       "1  5 47.43579 15.000515\n",
       "2  6 42.43192 12.249041\n",
       "3  7 40.80265 10.904967\n",
       "4  8 37.79611  9.449027\n",
       "5  9 40.32659  9.505069\n",
       "6 10 39.16916  8.758490"
      ]
     },
     "metadata": {},
     "output_type": "display_data"
    }
   ],
   "source": [
    "X = NULL\n",
    "Y = NULL\n",
    "Z = NULL\n",
    "min_value = 5\n",
    "count = 0\n",
    "for(i in min_value:400){\n",
    "    count = count + 1\n",
    "    X[count] = i\n",
    "\n",
    "    Y[count] = (sd(TSLA_STOCK$log_returns[1:i]) * sqrt(252)) *  100\n",
    "    \n",
    "    # Standard error... \n",
    "    Z[count] = (Y[count] / sqrt(2 * i))\n",
    "}\n",
    "\n",
    "df = data.frame(X, Y, Z)\n",
    "#colnames(df) = c(\"Number of Trading Days\", \"Annual Volatility\",  \"Standard Error\")\n",
    "head(df)"
   ]
  },
  {
   "cell_type": "code",
   "execution_count": 69,
   "id": "a5e7b040",
   "metadata": {},
   "outputs": [
    {
     "data": {
      "image/png": "[encoded data removed]",
      "text/plain": [
       "plot without title"
      ]
     },
     "metadata": {},
     "output_type": "display_data"
    }
   ],
   "source": [
    "plot_1 <- ggplot(df) +\n",
    "  geom_point(aes(x = X, y = Y))+\n",
    "  labs(\n",
    "    title = \"Scatter Plot\",\n",
    "    y = \"Annual Volatility (%)\",\n",
    "    x = \"Number of Trading Days\")\n",
    "\n",
    "plot_1 + theme_linedraw()  # This is the \"theme\" for ggplot2"
   ]
  },
  {
   "cell_type": "code",
   "execution_count": 70,
   "id": "20e124f0",
   "metadata": {},
   "outputs": [],
   "source": [
    "colnames(df) = c(\"Number of Trading Days\", \"Annual Volatility\",  \"Standard Error\")\n",
    "xlsx::write.xlsx(df, \"Data/volatility.xlsx\", sheetName = \"Sheet1\", row.names = FALSE)"
   ]
  },
  {
   "cell_type": "code",
   "execution_count": null,
   "id": "cda033d9",
   "metadata": {},
   "outputs": [],
   "source": []
  }
 ],
 "metadata": {
  "kernelspec": {
   "display_name": "R 3.3",
   "language": "R",
   "name": "ir33"
  },
  "language_info": {
   "codemirror_mode": "r",
   "file_extension": ".r",
   "mimetype": "text/x-r-source",
   "name": "R",
   "pygments_lexer": "r",
   "version": "3.6.1"
  }
 },
 "nbformat": 4,
 "nbformat_minor": 5
}
